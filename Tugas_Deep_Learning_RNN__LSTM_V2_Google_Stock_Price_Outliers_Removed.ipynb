{
  "nbformat": 4,
  "nbformat_minor": 0,
  "metadata": {
    "colab": {
      "provenance": []
    },
    "kernelspec": {
      "name": "python3",
      "display_name": "Python 3"
    },
    "language_info": {
      "name": "python"
    }
  },
  "cells": [
    {
      "cell_type": "markdown",
      "source": [
        "# Members\n",
        "- Hilmi Zharfan Rachmadi - 5025201268\n",
        "- Fadel Pramaputra Maulana - \t5025201260\n",
        "- Vania Rizky Juliana Wachid - \t5025201215"
      ],
      "metadata": {
        "id": "2DKCloaGlpUJ"
      }
    },
    {
      "cell_type": "markdown",
      "source": [
        "# Used Datasets\n",
        "- Google_Stock_Price_Train.csv -> Training and Validation\n",
        "- Google_Stock_Price_Test.csv -> Testing"
      ],
      "metadata": {
        "id": "37tNfKFjmF3N"
      }
    },
    {
      "cell_type": "markdown",
      "source": [
        "# Mount Drive"
      ],
      "metadata": {
        "id": "uFiHbagzB0lg"
      }
    },
    {
      "cell_type": "code",
      "source": [
        "from google.colab import drive\n",
        "drive.mount('/content/drive') "
      ],
      "metadata": {
        "colab": {
          "base_uri": "https://localhost:8080/"
        },
        "id": "3P-JrfA_B3pE",
        "outputId": "916ac7f3-eb03-42be-a3d5-911b5c0c94ad"
      },
      "execution_count": null,
      "outputs": [
        {
          "output_type": "stream",
          "name": "stdout",
          "text": [
            "Mounted at /content/drive\n"
          ]
        }
      ]
    },
    {
      "cell_type": "markdown",
      "source": [
        "# Importing Libraries "
      ],
      "metadata": {
        "id": "u9DsDu71BiIw"
      }
    },
    {
      "cell_type": "code",
      "execution_count": null,
      "metadata": {
        "colab": {
          "base_uri": "https://localhost:8080/"
        },
        "id": "eruizJhQBMQa",
        "outputId": "5caab3f5-d603-4830-8a94-0f235ab3f2b1"
      },
      "outputs": [
        {
          "output_type": "stream",
          "name": "stdout",
          "text": [
            "Looking in indexes: https://pypi.org/simple, https://us-python.pkg.dev/colab-wheels/public/simple/\n",
            "Requirement already satisfied: scikit-learn in /usr/local/lib/python3.8/dist-packages (1.2.1)\n",
            "Requirement already satisfied: scipy>=1.3.2 in /usr/local/lib/python3.8/dist-packages (from scikit-learn) (1.10.1)\n",
            "Requirement already satisfied: joblib>=1.1.1 in /usr/local/lib/python3.8/dist-packages (from scikit-learn) (1.2.0)\n",
            "Requirement already satisfied: numpy>=1.17.3 in /usr/local/lib/python3.8/dist-packages (from scikit-learn) (1.22.4)\n",
            "Requirement already satisfied: threadpoolctl>=2.0.0 in /usr/local/lib/python3.8/dist-packages (from scikit-learn) (3.1.0)\n"
          ]
        }
      ],
      "source": [
        "import numpy as np\n",
        "import pandas as pd\n",
        "import datetime as dt\n",
        "import seaborn as sns\n",
        "from matplotlib import pyplot as plt\n",
        "from mlxtend.plotting import plot_decision_regions\n",
        "import keras\n",
        "from keras import layers\n",
        "from keras.optimizers import RMSprop\n",
        "from keras.models import Sequential\n",
        "# from keras.layers import Dense, Conv1D, Flatten, MaxPooling1D, Dropout, LeakyReLU\n",
        "from keras.layers import Dense, Dropout, LSTM\n",
        "\n",
        "!pip install -U scikit-learn\n",
        "import sklearn\n",
        "from sklearn.preprocessing import MinMaxScaler\n",
        "from sklearn.metrics import accuracy_score, precision_score, recall_score, f1_score, confusion_matrix\n",
        "\n",
        "sns.set()\n",
        "import warnings\n",
        "warnings.filterwarnings('ignore')\n",
        "%matplotlib inline"
      ]
    },
    {
      "cell_type": "markdown",
      "source": [
        "# Loading Dataset"
      ],
      "metadata": {
        "id": "NkHZzx8rCmHw"
      }
    },
    {
      "cell_type": "code",
      "source": [
        "def load_data(file_path):\n",
        "    # Load the dataset\n",
        "    data = pd.read_csv(file_path)\n",
        "\n",
        "    # Converting Date to datetime\n",
        "    data[\"Date\"] = pd.to_datetime(data[\"Date\"], format=\"%m/%d/%Y\")\n",
        "\n",
        "    # Converting Close to numeric\n",
        "    data['Close'] = data['Close'].replace('[^\\d.]', '', regex=True)\n",
        "    data['Close'] = pd.to_numeric(data['Close'], errors='coerce')\n",
        "\n",
        "    # Converting Volume to numeric\n",
        "    data['Volume'] = data['Volume'].replace('[^\\d.]', '', regex=True)\n",
        "    data['Volume'] = pd.to_numeric(data['Volume'], errors='coerce')\n",
        "\n",
        "    return data"
      ],
      "metadata": {
        "id": "TCbF82455vg2"
      },
      "execution_count": null,
      "outputs": []
    },
    {
      "cell_type": "code",
      "source": [
        "data = load_data('/content/Google_Stock_Price_Train.csv')\n",
        "\n",
        "# Show the first 5 rows of dataset\n",
        "data.head()"
      ],
      "metadata": {
        "colab": {
          "base_uri": "https://localhost:8080/",
          "height": 206
        },
        "id": "s3XAA61oCrFN",
        "outputId": "c6e5324b-42e8-4f7a-da32-98dacca72e84"
      },
      "execution_count": null,
      "outputs": [
        {
          "output_type": "execute_result",
          "data": {
            "text/plain": [
              "        Date    Open    High     Low   Close    Volume\n",
              "0 2012-01-03  325.25  332.83  324.97  663.59   7380500\n",
              "1 2012-01-04  331.27  333.87  329.08  666.45   5749400\n",
              "2 2012-01-05  329.83  330.75  326.89  657.21   6590300\n",
              "3 2012-01-06  328.34  328.77  323.68  648.24   5405900\n",
              "4 2012-01-09  322.04  322.29  309.46  620.76  11688800"
            ],
            "text/html": [
              "\n",
              "  <div id=\"df-c3da4643-3a12-458b-8e07-aecf95d9c794\">\n",
              "    <div class=\"colab-df-container\">\n",
              "      <div>\n",
              "<style scoped>\n",
              "    .dataframe tbody tr th:only-of-type {\n",
              "        vertical-align: middle;\n",
              "    }\n",
              "\n",
              "    .dataframe tbody tr th {\n",
              "        vertical-align: top;\n",
              "    }\n",
              "\n",
              "    .dataframe thead th {\n",
              "        text-align: right;\n",
              "    }\n",
              "</style>\n",
              "<table border=\"1\" class=\"dataframe\">\n",
              "  <thead>\n",
              "    <tr style=\"text-align: right;\">\n",
              "      <th></th>\n",
              "      <th>Date</th>\n",
              "      <th>Open</th>\n",
              "      <th>High</th>\n",
              "      <th>Low</th>\n",
              "      <th>Close</th>\n",
              "      <th>Volume</th>\n",
              "    </tr>\n",
              "  </thead>\n",
              "  <tbody>\n",
              "    <tr>\n",
              "      <th>0</th>\n",
              "      <td>2012-01-03</td>\n",
              "      <td>325.25</td>\n",
              "      <td>332.83</td>\n",
              "      <td>324.97</td>\n",
              "      <td>663.59</td>\n",
              "      <td>7380500</td>\n",
              "    </tr>\n",
              "    <tr>\n",
              "      <th>1</th>\n",
              "      <td>2012-01-04</td>\n",
              "      <td>331.27</td>\n",
              "      <td>333.87</td>\n",
              "      <td>329.08</td>\n",
              "      <td>666.45</td>\n",
              "      <td>5749400</td>\n",
              "    </tr>\n",
              "    <tr>\n",
              "      <th>2</th>\n",
              "      <td>2012-01-05</td>\n",
              "      <td>329.83</td>\n",
              "      <td>330.75</td>\n",
              "      <td>326.89</td>\n",
              "      <td>657.21</td>\n",
              "      <td>6590300</td>\n",
              "    </tr>\n",
              "    <tr>\n",
              "      <th>3</th>\n",
              "      <td>2012-01-06</td>\n",
              "      <td>328.34</td>\n",
              "      <td>328.77</td>\n",
              "      <td>323.68</td>\n",
              "      <td>648.24</td>\n",
              "      <td>5405900</td>\n",
              "    </tr>\n",
              "    <tr>\n",
              "      <th>4</th>\n",
              "      <td>2012-01-09</td>\n",
              "      <td>322.04</td>\n",
              "      <td>322.29</td>\n",
              "      <td>309.46</td>\n",
              "      <td>620.76</td>\n",
              "      <td>11688800</td>\n",
              "    </tr>\n",
              "  </tbody>\n",
              "</table>\n",
              "</div>\n",
              "      <button class=\"colab-df-convert\" onclick=\"convertToInteractive('df-c3da4643-3a12-458b-8e07-aecf95d9c794')\"\n",
              "              title=\"Convert this dataframe to an interactive table.\"\n",
              "              style=\"display:none;\">\n",
              "        \n",
              "  <svg xmlns=\"http://www.w3.org/2000/svg\" height=\"24px\"viewBox=\"0 0 24 24\"\n",
              "       width=\"24px\">\n",
              "    <path d=\"M0 0h24v24H0V0z\" fill=\"none\"/>\n",
              "    <path d=\"M18.56 5.44l.94 2.06.94-2.06 2.06-.94-2.06-.94-.94-2.06-.94 2.06-2.06.94zm-11 1L8.5 8.5l.94-2.06 2.06-.94-2.06-.94L8.5 2.5l-.94 2.06-2.06.94zm10 10l.94 2.06.94-2.06 2.06-.94-2.06-.94-.94-2.06-.94 2.06-2.06.94z\"/><path d=\"M17.41 7.96l-1.37-1.37c-.4-.4-.92-.59-1.43-.59-.52 0-1.04.2-1.43.59L10.3 9.45l-7.72 7.72c-.78.78-.78 2.05 0 2.83L4 21.41c.39.39.9.59 1.41.59.51 0 1.02-.2 1.41-.59l7.78-7.78 2.81-2.81c.8-.78.8-2.07 0-2.86zM5.41 20L4 18.59l7.72-7.72 1.47 1.35L5.41 20z\"/>\n",
              "  </svg>\n",
              "      </button>\n",
              "      \n",
              "  <style>\n",
              "    .colab-df-container {\n",
              "      display:flex;\n",
              "      flex-wrap:wrap;\n",
              "      gap: 12px;\n",
              "    }\n",
              "\n",
              "    .colab-df-convert {\n",
              "      background-color: #E8F0FE;\n",
              "      border: none;\n",
              "      border-radius: 50%;\n",
              "      cursor: pointer;\n",
              "      display: none;\n",
              "      fill: #1967D2;\n",
              "      height: 32px;\n",
              "      padding: 0 0 0 0;\n",
              "      width: 32px;\n",
              "    }\n",
              "\n",
              "    .colab-df-convert:hover {\n",
              "      background-color: #E2EBFA;\n",
              "      box-shadow: 0px 1px 2px rgba(60, 64, 67, 0.3), 0px 1px 3px 1px rgba(60, 64, 67, 0.15);\n",
              "      fill: #174EA6;\n",
              "    }\n",
              "\n",
              "    [theme=dark] .colab-df-convert {\n",
              "      background-color: #3B4455;\n",
              "      fill: #D2E3FC;\n",
              "    }\n",
              "\n",
              "    [theme=dark] .colab-df-convert:hover {\n",
              "      background-color: #434B5C;\n",
              "      box-shadow: 0px 1px 3px 1px rgba(0, 0, 0, 0.15);\n",
              "      filter: drop-shadow(0px 1px 2px rgba(0, 0, 0, 0.3));\n",
              "      fill: #FFFFFF;\n",
              "    }\n",
              "  </style>\n",
              "\n",
              "      <script>\n",
              "        const buttonEl =\n",
              "          document.querySelector('#df-c3da4643-3a12-458b-8e07-aecf95d9c794 button.colab-df-convert');\n",
              "        buttonEl.style.display =\n",
              "          google.colab.kernel.accessAllowed ? 'block' : 'none';\n",
              "\n",
              "        async function convertToInteractive(key) {\n",
              "          const element = document.querySelector('#df-c3da4643-3a12-458b-8e07-aecf95d9c794');\n",
              "          const dataTable =\n",
              "            await google.colab.kernel.invokeFunction('convertToInteractive',\n",
              "                                                     [key], {});\n",
              "          if (!dataTable) return;\n",
              "\n",
              "          const docLinkHtml = 'Like what you see? Visit the ' +\n",
              "            '<a target=\"_blank\" href=https://colab.research.google.com/notebooks/data_table.ipynb>data table notebook</a>'\n",
              "            + ' to learn more about interactive tables.';\n",
              "          element.innerHTML = '';\n",
              "          dataTable['output_type'] = 'display_data';\n",
              "          await google.colab.output.renderOutput(dataTable, element);\n",
              "          const docLink = document.createElement('div');\n",
              "          docLink.innerHTML = docLinkHtml;\n",
              "          element.appendChild(docLink);\n",
              "        }\n",
              "      </script>\n",
              "    </div>\n",
              "  </div>\n",
              "  "
            ]
          },
          "metadata": {},
          "execution_count": 4
        }
      ]
    },
    {
      "cell_type": "markdown",
      "source": [
        "# Preprocessing"
      ],
      "metadata": {
        "id": "0G0uzf8qDgCF"
      }
    },
    {
      "cell_type": "code",
      "source": [
        "data.info()"
      ],
      "metadata": {
        "id": "a8CyaVZxDiiw",
        "colab": {
          "base_uri": "https://localhost:8080/"
        },
        "outputId": "a18a632b-fd4c-4851-ef66-4aee1b83d1be"
      },
      "execution_count": null,
      "outputs": [
        {
          "output_type": "stream",
          "name": "stdout",
          "text": [
            "<class 'pandas.core.frame.DataFrame'>\n",
            "RangeIndex: 1258 entries, 0 to 1257\n",
            "Data columns (total 6 columns):\n",
            " #   Column  Non-Null Count  Dtype         \n",
            "---  ------  --------------  -----         \n",
            " 0   Date    1258 non-null   datetime64[ns]\n",
            " 1   Open    1258 non-null   float64       \n",
            " 2   High    1258 non-null   float64       \n",
            " 3   Low     1258 non-null   float64       \n",
            " 4   Close   1258 non-null   float64       \n",
            " 5   Volume  1258 non-null   int64         \n",
            "dtypes: datetime64[ns](1), float64(4), int64(1)\n",
            "memory usage: 59.1 KB\n"
          ]
        }
      ]
    },
    {
      "cell_type": "code",
      "source": [
        "data.describe().T"
      ],
      "metadata": {
        "id": "yAhBiZEHDwMA",
        "colab": {
          "base_uri": "https://localhost:8080/",
          "height": 206
        },
        "outputId": "67364985-3f7f-40b9-c3df-4acd2ab8fbe9"
      },
      "execution_count": null,
      "outputs": [
        {
          "output_type": "execute_result",
          "data": {
            "text/plain": [
              "         count          mean           std      min          25%          50%  \\\n",
              "Open    1258.0  5.337098e+02  1.519044e+02   279.12      404.115      537.470   \n",
              "High    1258.0  5.378802e+02  1.530088e+02   281.21      406.765      540.750   \n",
              "Low     1258.0  5.290074e+02  1.505528e+02   277.22      401.765      532.990   \n",
              "Close   1258.0  7.126697e+02  1.647526e+02   491.20      576.740      695.675   \n",
              "Volume  1258.0  3.158107e+06  2.273726e+06  7900.00  1621700.000  2566150.000   \n",
              "\n",
              "                 75%          max  \n",
              "Open    6.549225e+02       816.68  \n",
              "High    6.625875e+02       816.68  \n",
              "Low     6.448000e+02       805.14  \n",
              "Close   7.821050e+02      1216.83  \n",
              "Volume  4.122500e+06  24977900.00  "
            ],
            "text/html": [
              "\n",
              "  <div id=\"df-6847ae1a-5a69-4a0e-8045-5e4c496ba91d\">\n",
              "    <div class=\"colab-df-container\">\n",
              "      <div>\n",
              "<style scoped>\n",
              "    .dataframe tbody tr th:only-of-type {\n",
              "        vertical-align: middle;\n",
              "    }\n",
              "\n",
              "    .dataframe tbody tr th {\n",
              "        vertical-align: top;\n",
              "    }\n",
              "\n",
              "    .dataframe thead th {\n",
              "        text-align: right;\n",
              "    }\n",
              "</style>\n",
              "<table border=\"1\" class=\"dataframe\">\n",
              "  <thead>\n",
              "    <tr style=\"text-align: right;\">\n",
              "      <th></th>\n",
              "      <th>count</th>\n",
              "      <th>mean</th>\n",
              "      <th>std</th>\n",
              "      <th>min</th>\n",
              "      <th>25%</th>\n",
              "      <th>50%</th>\n",
              "      <th>75%</th>\n",
              "      <th>max</th>\n",
              "    </tr>\n",
              "  </thead>\n",
              "  <tbody>\n",
              "    <tr>\n",
              "      <th>Open</th>\n",
              "      <td>1258.0</td>\n",
              "      <td>5.337098e+02</td>\n",
              "      <td>1.519044e+02</td>\n",
              "      <td>279.12</td>\n",
              "      <td>404.115</td>\n",
              "      <td>537.470</td>\n",
              "      <td>6.549225e+02</td>\n",
              "      <td>816.68</td>\n",
              "    </tr>\n",
              "    <tr>\n",
              "      <th>High</th>\n",
              "      <td>1258.0</td>\n",
              "      <td>5.378802e+02</td>\n",
              "      <td>1.530088e+02</td>\n",
              "      <td>281.21</td>\n",
              "      <td>406.765</td>\n",
              "      <td>540.750</td>\n",
              "      <td>6.625875e+02</td>\n",
              "      <td>816.68</td>\n",
              "    </tr>\n",
              "    <tr>\n",
              "      <th>Low</th>\n",
              "      <td>1258.0</td>\n",
              "      <td>5.290074e+02</td>\n",
              "      <td>1.505528e+02</td>\n",
              "      <td>277.22</td>\n",
              "      <td>401.765</td>\n",
              "      <td>532.990</td>\n",
              "      <td>6.448000e+02</td>\n",
              "      <td>805.14</td>\n",
              "    </tr>\n",
              "    <tr>\n",
              "      <th>Close</th>\n",
              "      <td>1258.0</td>\n",
              "      <td>7.126697e+02</td>\n",
              "      <td>1.647526e+02</td>\n",
              "      <td>491.20</td>\n",
              "      <td>576.740</td>\n",
              "      <td>695.675</td>\n",
              "      <td>7.821050e+02</td>\n",
              "      <td>1216.83</td>\n",
              "    </tr>\n",
              "    <tr>\n",
              "      <th>Volume</th>\n",
              "      <td>1258.0</td>\n",
              "      <td>3.158107e+06</td>\n",
              "      <td>2.273726e+06</td>\n",
              "      <td>7900.00</td>\n",
              "      <td>1621700.000</td>\n",
              "      <td>2566150.000</td>\n",
              "      <td>4.122500e+06</td>\n",
              "      <td>24977900.00</td>\n",
              "    </tr>\n",
              "  </tbody>\n",
              "</table>\n",
              "</div>\n",
              "      <button class=\"colab-df-convert\" onclick=\"convertToInteractive('df-6847ae1a-5a69-4a0e-8045-5e4c496ba91d')\"\n",
              "              title=\"Convert this dataframe to an interactive table.\"\n",
              "              style=\"display:none;\">\n",
              "        \n",
              "  <svg xmlns=\"http://www.w3.org/2000/svg\" height=\"24px\"viewBox=\"0 0 24 24\"\n",
              "       width=\"24px\">\n",
              "    <path d=\"M0 0h24v24H0V0z\" fill=\"none\"/>\n",
              "    <path d=\"M18.56 5.44l.94 2.06.94-2.06 2.06-.94-2.06-.94-.94-2.06-.94 2.06-2.06.94zm-11 1L8.5 8.5l.94-2.06 2.06-.94-2.06-.94L8.5 2.5l-.94 2.06-2.06.94zm10 10l.94 2.06.94-2.06 2.06-.94-2.06-.94-.94-2.06-.94 2.06-2.06.94z\"/><path d=\"M17.41 7.96l-1.37-1.37c-.4-.4-.92-.59-1.43-.59-.52 0-1.04.2-1.43.59L10.3 9.45l-7.72 7.72c-.78.78-.78 2.05 0 2.83L4 21.41c.39.39.9.59 1.41.59.51 0 1.02-.2 1.41-.59l7.78-7.78 2.81-2.81c.8-.78.8-2.07 0-2.86zM5.41 20L4 18.59l7.72-7.72 1.47 1.35L5.41 20z\"/>\n",
              "  </svg>\n",
              "      </button>\n",
              "      \n",
              "  <style>\n",
              "    .colab-df-container {\n",
              "      display:flex;\n",
              "      flex-wrap:wrap;\n",
              "      gap: 12px;\n",
              "    }\n",
              "\n",
              "    .colab-df-convert {\n",
              "      background-color: #E8F0FE;\n",
              "      border: none;\n",
              "      border-radius: 50%;\n",
              "      cursor: pointer;\n",
              "      display: none;\n",
              "      fill: #1967D2;\n",
              "      height: 32px;\n",
              "      padding: 0 0 0 0;\n",
              "      width: 32px;\n",
              "    }\n",
              "\n",
              "    .colab-df-convert:hover {\n",
              "      background-color: #E2EBFA;\n",
              "      box-shadow: 0px 1px 2px rgba(60, 64, 67, 0.3), 0px 1px 3px 1px rgba(60, 64, 67, 0.15);\n",
              "      fill: #174EA6;\n",
              "    }\n",
              "\n",
              "    [theme=dark] .colab-df-convert {\n",
              "      background-color: #3B4455;\n",
              "      fill: #D2E3FC;\n",
              "    }\n",
              "\n",
              "    [theme=dark] .colab-df-convert:hover {\n",
              "      background-color: #434B5C;\n",
              "      box-shadow: 0px 1px 3px 1px rgba(0, 0, 0, 0.15);\n",
              "      filter: drop-shadow(0px 1px 2px rgba(0, 0, 0, 0.3));\n",
              "      fill: #FFFFFF;\n",
              "    }\n",
              "  </style>\n",
              "\n",
              "      <script>\n",
              "        const buttonEl =\n",
              "          document.querySelector('#df-6847ae1a-5a69-4a0e-8045-5e4c496ba91d button.colab-df-convert');\n",
              "        buttonEl.style.display =\n",
              "          google.colab.kernel.accessAllowed ? 'block' : 'none';\n",
              "\n",
              "        async function convertToInteractive(key) {\n",
              "          const element = document.querySelector('#df-6847ae1a-5a69-4a0e-8045-5e4c496ba91d');\n",
              "          const dataTable =\n",
              "            await google.colab.kernel.invokeFunction('convertToInteractive',\n",
              "                                                     [key], {});\n",
              "          if (!dataTable) return;\n",
              "\n",
              "          const docLinkHtml = 'Like what you see? Visit the ' +\n",
              "            '<a target=\"_blank\" href=https://colab.research.google.com/notebooks/data_table.ipynb>data table notebook</a>'\n",
              "            + ' to learn more about interactive tables.';\n",
              "          element.innerHTML = '';\n",
              "          dataTable['output_type'] = 'display_data';\n",
              "          await google.colab.output.renderOutput(dataTable, element);\n",
              "          const docLink = document.createElement('div');\n",
              "          docLink.innerHTML = docLinkHtml;\n",
              "          element.appendChild(docLink);\n",
              "        }\n",
              "      </script>\n",
              "    </div>\n",
              "  </div>\n",
              "  "
            ]
          },
          "metadata": {},
          "execution_count": 6
        }
      ]
    },
    {
      "cell_type": "code",
      "source": [
        "data_copy = data.copy(deep = True)\n",
        "\n",
        "print(data_copy.isnull().sum())"
      ],
      "metadata": {
        "id": "tOk7qi_SDyE9",
        "colab": {
          "base_uri": "https://localhost:8080/"
        },
        "outputId": "6c075cb1-a743-449c-be6b-4c4adbb5217a"
      },
      "execution_count": null,
      "outputs": [
        {
          "output_type": "stream",
          "name": "stdout",
          "text": [
            "Date      0\n",
            "Open      0\n",
            "High      0\n",
            "Low       0\n",
            "Close     0\n",
            "Volume    0\n",
            "dtype: int64\n"
          ]
        }
      ]
    },
    {
      "cell_type": "markdown",
      "source": [
        "There seems to be no null value in the dataset"
      ],
      "metadata": {
        "id": "oYtcHyXREDfW"
      }
    },
    {
      "cell_type": "code",
      "source": [
        "h = data.hist(figsize = (20,20))"
      ],
      "metadata": {
        "id": "jLqUTCmdD2vE",
        "colab": {
          "base_uri": "https://localhost:8080/",
          "height": 1000
        },
        "outputId": "f1d5ab13-ebb6-45a5-d803-5966e75a6a68"
      },
      "execution_count": null,
      "outputs": [
        {
          "output_type": "display_data",
          "data": {
            "text/plain": [
              "<Figure size 1440x1440 with 6 Axes>"
            ],
            "image/png": "[encoded data removed]"
          },
          "metadata": {
            "needs_background": "light"
          }
        }
      ]
    },
    {
      "cell_type": "markdown",
      "source": [
        "# Checking for Outliers\n",
        "The presence of outliers is examined using the Interquartile Range (IQR) method. Data points that fall outside the range of the first quartile to the third quartile are considered outliers."
      ],
      "metadata": {
        "id": "2xWf6We_EU8c"
      }
    },
    {
      "cell_type": "code",
      "source": [
        "# Using IQR\n",
        "import numpy as np\n",
        "\n",
        "def get_lower_upper_bound(x):\n",
        "    q1 = np.percentile(x, 25)\n",
        "    q3 = np.percentile(x, 75)\n",
        "    iqr = q3-q1\n",
        "    lower_bound = q1-(iqr*1.5)\n",
        "    upper_bound = q3+(iqr*1.5)\n",
        "    return lower_bound, upper_bound\n",
        "\n",
        "def get_outliers_iqr(x):\n",
        "    lower_bound, upper_bound = get_lower_upper_bound(x)\n",
        "    return x[np.where((x > upper_bound) | (x < lower_bound))]"
      ],
      "metadata": {
        "id": "I11iiNTzD5k1"
      },
      "execution_count": null,
      "outputs": []
    },
    {
      "cell_type": "code",
      "source": [
        "def count_outliers(df, col):\n",
        "    arr = get_outliers_iqr(df[col].values) \n",
        "    display(arr)   \n",
        "    np.count_nonzero(arr)\n",
        "    display(arr.size)"
      ],
      "metadata": {
        "id": "9041FNWEEX1G"
      },
      "execution_count": null,
      "outputs": []
    },
    {
      "cell_type": "code",
      "source": [
        "import seaborn as sns\n",
        "\n",
        "for col in ['Open', 'High', 'Low', 'Close', 'Volume']:\n",
        "    sns.boxplot(x=data_copy[col])\n",
        "    plt.title(col)\n",
        "    plt.show()\n",
        "    \n",
        "    print(f\"Number of outliers in {col}:\")\n",
        "    outliers = count_outliers(data_copy, col)\n",
        "    print(outliers)\n"
      ],
      "metadata": {
        "id": "giPaCHGFPjty",
        "colab": {
          "base_uri": "https://localhost:8080/",
          "height": 1000
        },
        "outputId": "1b319d94-7a84-4478-f94d-61c10c0bd21c"
      },
      "execution_count": null,
      "outputs": [
        {
          "output_type": "display_data",
          "data": {
            "text/plain": [
              "<Figure size 432x288 with 1 Axes>"
            ],
            "image/png": "[encoded data removed]"
          },
          "metadata": {
            "needs_background": "light"
          }
        },
        {
          "output_type": "stream",
          "name": "stdout",
          "text": [
            "Number of outliers in Open:\n"
          ]
        },
        {
          "output_type": "display_data",
          "data": {
            "text/plain": [
              "array([], dtype=float64)"
            ]
          },
          "metadata": {}
        },
        {
          "output_type": "display_data",
          "data": {
            "text/plain": [
              "0"
            ]
          },
          "metadata": {}
        },
        {
          "output_type": "stream",
          "name": "stdout",
          "text": [
            "None\n"
          ]
        },
        {
          "output_type": "display_data",
          "data": {
            "text/plain": [
              "<Figure size 432x288 with 1 Axes>"
            ],
            "image/png": "[encoded data removed]"
          },
          "metadata": {
            "needs_background": "light"
          }
        },
        {
          "output_type": "stream",
          "name": "stdout",
          "text": [
            "Number of outliers in High:\n"
          ]
        },
        {
          "output_type": "display_data",
          "data": {
            "text/plain": [
              "array([], dtype=float64)"
            ]
          },
          "metadata": {}
        },
        {
          "output_type": "display_data",
          "data": {
            "text/plain": [
              "0"
            ]
          },
          "metadata": {}
        },
        {
          "output_type": "stream",
          "name": "stdout",
          "text": [
            "None\n"
          ]
        },
        {
          "output_type": "display_data",
          "data": {
            "text/plain": [
              "<Figure size 432x288 with 1 Axes>"
            ],
            "image/png": "[encoded data removed]"
          },
          "metadata": {
            "needs_background": "light"
          }
        },
        {
          "output_type": "stream",
          "name": "stdout",
          "text": [
            "Number of outliers in Low:\n"
          ]
        },
        {
          "output_type": "display_data",
          "data": {
            "text/plain": [
              "array([], dtype=float64)"
            ]
          },
          "metadata": {}
        },
        {
          "output_type": "display_data",
          "data": {
            "text/plain": [
              "0"
            ]
          },
          "metadata": {}
        },
        {
          "output_type": "stream",
          "name": "stdout",
          "text": [
            "None\n"
          ]
        },
        {
          "output_type": "display_data",
          "data": {
            "text/plain": [
              "<Figure size 432x288 with 1 Axes>"
            ],
            "image/png": "[encoded data removed]"
          },
          "metadata": {
            "needs_background": "light"
          }
        },
        {
          "output_type": "stream",
          "name": "stdout",
          "text": [
            "Number of outliers in Close:\n"
          ]
        },
        {
          "output_type": "display_data",
          "data": {
            "text/plain": [
              "array([1097.61, 1112.05, 1108.8 , 1114.4 , 1115.34, 1106.42, 1117.64,\n",
              "       1110.07, 1101.97, 1114.26, 1135.74, 1138.11, 1127.15, 1127.09,\n",
              "       1119.91, 1146.25, 1145.48, 1153.05, 1147.38, 1160.51, 1161.83,\n",
              "       1156.92, 1120.75, 1098.21, 1119.94, 1103.89, 1132.28, 1177.74,\n",
              "       1130.33, 1135.04, 1140.07, 1156.78, 1174.22, 1169.72, 1186.92,\n",
              "       1183.44, 1196.61, 1199.51, 1207.56, 1199.05, 1200.81, 1200.49,\n",
              "       1209.19, 1216.66, 1216.83, 1215.87, 1212.32, 1199.4 , 1211.58,\n",
              "       1214.92, 1216.27, 1211.46, 1208.25, 1196.7 , 1203.99, 1185.8 ,\n",
              "       1169.59, 1188.84, 1207.94, 1195.97, 1193.88, 1179.8 , 1154.76,\n",
              "       1155.55, 1128.87])"
            ]
          },
          "metadata": {}
        },
        {
          "output_type": "display_data",
          "data": {
            "text/plain": [
              "65"
            ]
          },
          "metadata": {}
        },
        {
          "output_type": "stream",
          "name": "stdout",
          "text": [
            "None\n"
          ]
        },
        {
          "output_type": "display_data",
          "data": {
            "text/plain": [
              "<Figure size 432x288 with 1 Axes>"
            ],
            "image/png": "[encoded data removed]"
          },
          "metadata": {
            "needs_background": "light"
          }
        },
        {
          "output_type": "stream",
          "name": "stdout",
          "text": [
            "Number of outliers in Volume:\n"
          ]
        },
        {
          "output_type": "display_data",
          "data": {
            "text/plain": [
              "array([11688800,  8824000, 12657800, 21231800, 10012700, 11556300,\n",
              "       16379700, 11426700,  9706300, 11991700,  9384300, 12975800,\n",
              "       12765800, 12162400, 11388200,  7891600, 24977900, 23050400,\n",
              "        8141500,  7884700, 11862400,  8118400, 11649800,  8001600,\n",
              "        7994300, 14773700,  8723000,  8545000, 23219400,  8739800,\n",
              "       10220800, 11174200,  9172400, 11164900])"
            ]
          },
          "metadata": {}
        },
        {
          "output_type": "display_data",
          "data": {
            "text/plain": [
              "34"
            ]
          },
          "metadata": {}
        },
        {
          "output_type": "stream",
          "name": "stdout",
          "text": [
            "None\n"
          ]
        }
      ]
    },
    {
      "cell_type": "markdown",
      "source": [
        "Results:\n",
        "*   65 outliers in Close\n",
        "*   34 outliers in Volume\n",
        "\n"
      ],
      "metadata": {
        "id": "zQOHbRaFRbh4"
      }
    },
    {
      "cell_type": "markdown",
      "source": [
        "# Handling Outlier"
      ],
      "metadata": {
        "id": "j7XjLz2DRrGG"
      }
    },
    {
      "cell_type": "code",
      "source": [
        "def remove_outlier(df, col):\n",
        "    lb, ub = get_lower_upper_bound(df[col])\n",
        "    df = df.drop(df[(df[col] > ub) | (df[col] < lb)].index)\n",
        "    return df"
      ],
      "metadata": {
        "id": "SqHouNsmRuyB"
      },
      "execution_count": null,
      "outputs": []
    },
    {
      "cell_type": "code",
      "source": [
        "dfclean = data_copy.copy(deep=True)\n",
        "\n",
        "for col in ['Close', 'Volume']:\n",
        "    dfclean = remove_outlier(dfclean, col)\n",
        "\n",
        "    sns.boxplot(x=dfclean[col])\n",
        "    plt.title(col)\n",
        "    plt.show()\n",
        "\n",
        "    print(f\"Number of outliers in {col}:\")\n",
        "    outliers = count_outliers(dfclean, col)\n",
        "    print(outliers)"
      ],
      "metadata": {
        "id": "gzklkm7sRx7-",
        "colab": {
          "base_uri": "https://localhost:8080/",
          "height": 741
        },
        "outputId": "e0133208-7a91-4470-a89e-0a3d4b83986c"
      },
      "execution_count": null,
      "outputs": [
        {
          "output_type": "display_data",
          "data": {
            "text/plain": [
              "<Figure size 432x288 with 1 Axes>"
            ],
            "image/png": "[encoded data removed]"
          },
          "metadata": {
            "needs_background": "light"
          }
        },
        {
          "output_type": "stream",
          "name": "stdout",
          "text": [
            "Number of outliers in Close:\n"
          ]
        },
        {
          "output_type": "display_data",
          "data": {
            "text/plain": [
              "array([1066.94, 1075.19, 1081.69, 1074.34, 1067.03, 1070.04, 1066.93,\n",
              "       1081.78, 1083.25])"
            ]
          },
          "metadata": {}
        },
        {
          "output_type": "display_data",
          "data": {
            "text/plain": [
              "9"
            ]
          },
          "metadata": {}
        },
        {
          "output_type": "stream",
          "name": "stdout",
          "text": [
            "None\n"
          ]
        },
        {
          "output_type": "display_data",
          "data": {
            "text/plain": [
              "<Figure size 432x288 with 1 Axes>"
            ],
            "image/png": "[encoded data removed]"
          },
          "metadata": {
            "needs_background": "light"
          }
        },
        {
          "output_type": "stream",
          "name": "stdout",
          "text": [
            "Number of outliers in Volume:\n"
          ]
        },
        {
          "output_type": "display_data",
          "data": {
            "text/plain": [
              "array([7613100])"
            ]
          },
          "metadata": {}
        },
        {
          "output_type": "display_data",
          "data": {
            "text/plain": [
              "1"
            ]
          },
          "metadata": {}
        },
        {
          "output_type": "stream",
          "name": "stdout",
          "text": [
            "None\n"
          ]
        }
      ]
    },
    {
      "cell_type": "code",
      "source": [
        "dfclean.info()\n",
        "dfclean.describe().T"
      ],
      "metadata": {
        "id": "szZMn8eITpWq",
        "colab": {
          "base_uri": "https://localhost:8080/",
          "height": 431
        },
        "outputId": "809c04eb-28cb-4d44-825b-3b3d1fc57eda"
      },
      "execution_count": null,
      "outputs": [
        {
          "output_type": "stream",
          "name": "stdout",
          "text": [
            "<class 'pandas.core.frame.DataFrame'>\n",
            "Int64Index: 1163 entries, 0 to 1257\n",
            "Data columns (total 6 columns):\n",
            " #   Column  Non-Null Count  Dtype         \n",
            "---  ------  --------------  -----         \n",
            " 0   Date    1163 non-null   datetime64[ns]\n",
            " 1   Open    1163 non-null   float64       \n",
            " 2   High    1163 non-null   float64       \n",
            " 3   Low     1163 non-null   float64       \n",
            " 4   Close   1163 non-null   float64       \n",
            " 5   Volume  1163 non-null   int64         \n",
            "dtypes: datetime64[ns](1), float64(4), int64(1)\n",
            "memory usage: 63.6 KB\n"
          ]
        },
        {
          "output_type": "execute_result",
          "data": {
            "text/plain": [
              "         count          mean           std      min          25%         50%  \\\n",
              "Open    1163.0  5.352107e+02  1.548683e+02   279.12      402.420      535.78   \n",
              "High    1163.0  5.394116e+02  1.560250e+02   281.21      406.165      539.27   \n",
              "Low     1163.0  5.305831e+02  1.533873e+02   277.22      400.750      531.35   \n",
              "Close   1163.0  6.873357e+02  1.302828e+02   491.20      572.620      682.40   \n",
              "Volume  1163.0  2.852855e+06  1.575600e+06  7900.00  1576350.000  2370400.00   \n",
              "\n",
              "                75%         max  \n",
              "Open        687.725      816.68  \n",
              "High        697.280      816.68  \n",
              "Low         680.465      805.14  \n",
              "Close       769.590     1083.25  \n",
              "Volume  3965450.000  7613100.00  "
            ],
            "text/html": [
              "\n",
              "  <div id=\"df-052c2870-15fb-40d3-9651-2e14bcc099d6\">\n",
              "    <div class=\"colab-df-container\">\n",
              "      <div>\n",
              "<style scoped>\n",
              "    .dataframe tbody tr th:only-of-type {\n",
              "        vertical-align: middle;\n",
              "    }\n",
              "\n",
              "    .dataframe tbody tr th {\n",
              "        vertical-align: top;\n",
              "    }\n",
              "\n",
              "    .dataframe thead th {\n",
              "        text-align: right;\n",
              "    }\n",
              "</style>\n",
              "<table border=\"1\" class=\"dataframe\">\n",
              "  <thead>\n",
              "    <tr style=\"text-align: right;\">\n",
              "      <th></th>\n",
              "      <th>count</th>\n",
              "      <th>mean</th>\n",
              "      <th>std</th>\n",
              "      <th>min</th>\n",
              "      <th>25%</th>\n",
              "      <th>50%</th>\n",
              "      <th>75%</th>\n",
              "      <th>max</th>\n",
              "    </tr>\n",
              "  </thead>\n",
              "  <tbody>\n",
              "    <tr>\n",
              "      <th>Open</th>\n",
              "      <td>1163.0</td>\n",
              "      <td>5.352107e+02</td>\n",
              "      <td>1.548683e+02</td>\n",
              "      <td>279.12</td>\n",
              "      <td>402.420</td>\n",
              "      <td>535.78</td>\n",
              "      <td>687.725</td>\n",
              "      <td>816.68</td>\n",
              "    </tr>\n",
              "    <tr>\n",
              "      <th>High</th>\n",
              "      <td>1163.0</td>\n",
              "      <td>5.394116e+02</td>\n",
              "      <td>1.560250e+02</td>\n",
              "      <td>281.21</td>\n",
              "      <td>406.165</td>\n",
              "      <td>539.27</td>\n",
              "      <td>697.280</td>\n",
              "      <td>816.68</td>\n",
              "    </tr>\n",
              "    <tr>\n",
              "      <th>Low</th>\n",
              "      <td>1163.0</td>\n",
              "      <td>5.305831e+02</td>\n",
              "      <td>1.533873e+02</td>\n",
              "      <td>277.22</td>\n",
              "      <td>400.750</td>\n",
              "      <td>531.35</td>\n",
              "      <td>680.465</td>\n",
              "      <td>805.14</td>\n",
              "    </tr>\n",
              "    <tr>\n",
              "      <th>Close</th>\n",
              "      <td>1163.0</td>\n",
              "      <td>6.873357e+02</td>\n",
              "      <td>1.302828e+02</td>\n",
              "      <td>491.20</td>\n",
              "      <td>572.620</td>\n",
              "      <td>682.40</td>\n",
              "      <td>769.590</td>\n",
              "      <td>1083.25</td>\n",
              "    </tr>\n",
              "    <tr>\n",
              "      <th>Volume</th>\n",
              "      <td>1163.0</td>\n",
              "      <td>2.852855e+06</td>\n",
              "      <td>1.575600e+06</td>\n",
              "      <td>7900.00</td>\n",
              "      <td>1576350.000</td>\n",
              "      <td>2370400.00</td>\n",
              "      <td>3965450.000</td>\n",
              "      <td>7613100.00</td>\n",
              "    </tr>\n",
              "  </tbody>\n",
              "</table>\n",
              "</div>\n",
              "      <button class=\"colab-df-convert\" onclick=\"convertToInteractive('df-052c2870-15fb-40d3-9651-2e14bcc099d6')\"\n",
              "              title=\"Convert this dataframe to an interactive table.\"\n",
              "              style=\"display:none;\">\n",
              "        \n",
              "  <svg xmlns=\"http://www.w3.org/2000/svg\" height=\"24px\"viewBox=\"0 0 24 24\"\n",
              "       width=\"24px\">\n",
              "    <path d=\"M0 0h24v24H0V0z\" fill=\"none\"/>\n",
              "    <path d=\"M18.56 5.44l.94 2.06.94-2.06 2.06-.94-2.06-.94-.94-2.06-.94 2.06-2.06.94zm-11 1L8.5 8.5l.94-2.06 2.06-.94-2.06-.94L8.5 2.5l-.94 2.06-2.06.94zm10 10l.94 2.06.94-2.06 2.06-.94-2.06-.94-.94-2.06-.94 2.06-2.06.94z\"/><path d=\"M17.41 7.96l-1.37-1.37c-.4-.4-.92-.59-1.43-.59-.52 0-1.04.2-1.43.59L10.3 9.45l-7.72 7.72c-.78.78-.78 2.05 0 2.83L4 21.41c.39.39.9.59 1.41.59.51 0 1.02-.2 1.41-.59l7.78-7.78 2.81-2.81c.8-.78.8-2.07 0-2.86zM5.41 20L4 18.59l7.72-7.72 1.47 1.35L5.41 20z\"/>\n",
              "  </svg>\n",
              "      </button>\n",
              "      \n",
              "  <style>\n",
              "    .colab-df-container {\n",
              "      display:flex;\n",
              "      flex-wrap:wrap;\n",
              "      gap: 12px;\n",
              "    }\n",
              "\n",
              "    .colab-df-convert {\n",
              "      background-color: #E8F0FE;\n",
              "      border: none;\n",
              "      border-radius: 50%;\n",
              "      cursor: pointer;\n",
              "      display: none;\n",
              "      fill: #1967D2;\n",
              "      height: 32px;\n",
              "      padding: 0 0 0 0;\n",
              "      width: 32px;\n",
              "    }\n",
              "\n",
              "    .colab-df-convert:hover {\n",
              "      background-color: #E2EBFA;\n",
              "      box-shadow: 0px 1px 2px rgba(60, 64, 67, 0.3), 0px 1px 3px 1px rgba(60, 64, 67, 0.15);\n",
              "      fill: #174EA6;\n",
              "    }\n",
              "\n",
              "    [theme=dark] .colab-df-convert {\n",
              "      background-color: #3B4455;\n",
              "      fill: #D2E3FC;\n",
              "    }\n",
              "\n",
              "    [theme=dark] .colab-df-convert:hover {\n",
              "      background-color: #434B5C;\n",
              "      box-shadow: 0px 1px 3px 1px rgba(0, 0, 0, 0.15);\n",
              "      filter: drop-shadow(0px 1px 2px rgba(0, 0, 0, 0.3));\n",
              "      fill: #FFFFFF;\n",
              "    }\n",
              "  </style>\n",
              "\n",
              "      <script>\n",
              "        const buttonEl =\n",
              "          document.querySelector('#df-052c2870-15fb-40d3-9651-2e14bcc099d6 button.colab-df-convert');\n",
              "        buttonEl.style.display =\n",
              "          google.colab.kernel.accessAllowed ? 'block' : 'none';\n",
              "\n",
              "        async function convertToInteractive(key) {\n",
              "          const element = document.querySelector('#df-052c2870-15fb-40d3-9651-2e14bcc099d6');\n",
              "          const dataTable =\n",
              "            await google.colab.kernel.invokeFunction('convertToInteractive',\n",
              "                                                     [key], {});\n",
              "          if (!dataTable) return;\n",
              "\n",
              "          const docLinkHtml = 'Like what you see? Visit the ' +\n",
              "            '<a target=\"_blank\" href=https://colab.research.google.com/notebooks/data_table.ipynb>data table notebook</a>'\n",
              "            + ' to learn more about interactive tables.';\n",
              "          element.innerHTML = '';\n",
              "          dataTable['output_type'] = 'display_data';\n",
              "          await google.colab.output.renderOutput(dataTable, element);\n",
              "          const docLink = document.createElement('div');\n",
              "          docLink.innerHTML = docLinkHtml;\n",
              "          element.appendChild(docLink);\n",
              "        }\n",
              "      </script>\n",
              "    </div>\n",
              "  </div>\n",
              "  "
            ]
          },
          "metadata": {},
          "execution_count": 14
        }
      ]
    },
    {
      "cell_type": "code",
      "source": [
        "dfclean"
      ],
      "metadata": {
        "id": "6dRQNHIMdbOC",
        "colab": {
          "base_uri": "https://localhost:8080/",
          "height": 423
        },
        "outputId": "18e4fa5b-fa7f-48fe-9bc4-0d0b09f0df4a"
      },
      "execution_count": null,
      "outputs": [
        {
          "output_type": "execute_result",
          "data": {
            "text/plain": [
              "           Date    Open    High     Low   Close   Volume\n",
              "0    2012-01-03  325.25  332.83  324.97  663.59  7380500\n",
              "1    2012-01-04  331.27  333.87  329.08  666.45  5749400\n",
              "2    2012-01-05  329.83  330.75  326.89  657.21  6590300\n",
              "3    2012-01-06  328.34  328.77  323.68  648.24  5405900\n",
              "6    2012-01-11  310.59  313.52  309.40  624.25  4817800\n",
              "...         ...     ...     ...     ...     ...      ...\n",
              "1253 2016-12-23  790.90  792.74  787.28  789.91   623400\n",
              "1254 2016-12-27  790.68  797.86  787.66  791.55   789100\n",
              "1255 2016-12-28  793.70  794.23  783.20  785.05  1153800\n",
              "1256 2016-12-29  783.33  785.93  778.92  782.79   744300\n",
              "1257 2016-12-30  782.75  782.78  770.41  771.82  1770000\n",
              "\n",
              "[1163 rows x 6 columns]"
            ],
            "text/html": [
              "\n",
              "  <div id=\"df-4f71a258-57d0-4513-a869-cee7e68a960c\">\n",
              "    <div class=\"colab-df-container\">\n",
              "      <div>\n",
              "<style scoped>\n",
              "    .dataframe tbody tr th:only-of-type {\n",
              "        vertical-align: middle;\n",
              "    }\n",
              "\n",
              "    .dataframe tbody tr th {\n",
              "        vertical-align: top;\n",
              "    }\n",
              "\n",
              "    .dataframe thead th {\n",
              "        text-align: right;\n",
              "    }\n",
              "</style>\n",
              "<table border=\"1\" class=\"dataframe\">\n",
              "  <thead>\n",
              "    <tr style=\"text-align: right;\">\n",
              "      <th></th>\n",
              "      <th>Date</th>\n",
              "      <th>Open</th>\n",
              "      <th>High</th>\n",
              "      <th>Low</th>\n",
              "      <th>Close</th>\n",
              "      <th>Volume</th>\n",
              "    </tr>\n",
              "  </thead>\n",
              "  <tbody>\n",
              "    <tr>\n",
              "      <th>0</th>\n",
              "      <td>2012-01-03</td>\n",
              "      <td>325.25</td>\n",
              "      <td>332.83</td>\n",
              "      <td>324.97</td>\n",
              "      <td>663.59</td>\n",
              "      <td>7380500</td>\n",
              "    </tr>\n",
              "    <tr>\n",
              "      <th>1</th>\n",
              "      <td>2012-01-04</td>\n",
              "      <td>331.27</td>\n",
              "      <td>333.87</td>\n",
              "      <td>329.08</td>\n",
              "      <td>666.45</td>\n",
              "      <td>5749400</td>\n",
              "    </tr>\n",
              "    <tr>\n",
              "      <th>2</th>\n",
              "      <td>2012-01-05</td>\n",
              "      <td>329.83</td>\n",
              "      <td>330.75</td>\n",
              "      <td>326.89</td>\n",
              "      <td>657.21</td>\n",
              "      <td>6590300</td>\n",
              "    </tr>\n",
              "    <tr>\n",
              "      <th>3</th>\n",
              "      <td>2012-01-06</td>\n",
              "      <td>328.34</td>\n",
              "      <td>328.77</td>\n",
              "      <td>323.68</td>\n",
              "      <td>648.24</td>\n",
              "      <td>5405900</td>\n",
              "    </tr>\n",
              "    <tr>\n",
              "      <th>6</th>\n",
              "      <td>2012-01-11</td>\n",
              "      <td>310.59</td>\n",
              "      <td>313.52</td>\n",
              "      <td>309.40</td>\n",
              "      <td>624.25</td>\n",
              "      <td>4817800</td>\n",
              "    </tr>\n",
              "    <tr>\n",
              "      <th>...</th>\n",
              "      <td>...</td>\n",
              "      <td>...</td>\n",
              "      <td>...</td>\n",
              "      <td>...</td>\n",
              "      <td>...</td>\n",
              "      <td>...</td>\n",
              "    </tr>\n",
              "    <tr>\n",
              "      <th>1253</th>\n",
              "      <td>2016-12-23</td>\n",
              "      <td>790.90</td>\n",
              "      <td>792.74</td>\n",
              "      <td>787.28</td>\n",
              "      <td>789.91</td>\n",
              "      <td>623400</td>\n",
              "    </tr>\n",
              "    <tr>\n",
              "      <th>1254</th>\n",
              "      <td>2016-12-27</td>\n",
              "      <td>790.68</td>\n",
              "      <td>797.86</td>\n",
              "      <td>787.66</td>\n",
              "      <td>791.55</td>\n",
              "      <td>789100</td>\n",
              "    </tr>\n",
              "    <tr>\n",
              "      <th>1255</th>\n",
              "      <td>2016-12-28</td>\n",
              "      <td>793.70</td>\n",
              "      <td>794.23</td>\n",
              "      <td>783.20</td>\n",
              "      <td>785.05</td>\n",
              "      <td>1153800</td>\n",
              "    </tr>\n",
              "    <tr>\n",
              "      <th>1256</th>\n",
              "      <td>2016-12-29</td>\n",
              "      <td>783.33</td>\n",
              "      <td>785.93</td>\n",
              "      <td>778.92</td>\n",
              "      <td>782.79</td>\n",
              "      <td>744300</td>\n",
              "    </tr>\n",
              "    <tr>\n",
              "      <th>1257</th>\n",
              "      <td>2016-12-30</td>\n",
              "      <td>782.75</td>\n",
              "      <td>782.78</td>\n",
              "      <td>770.41</td>\n",
              "      <td>771.82</td>\n",
              "      <td>1770000</td>\n",
              "    </tr>\n",
              "  </tbody>\n",
              "</table>\n",
              "<p>1163 rows × 6 columns</p>\n",
              "</div>\n",
              "      <button class=\"colab-df-convert\" onclick=\"convertToInteractive('df-4f71a258-57d0-4513-a869-cee7e68a960c')\"\n",
              "              title=\"Convert this dataframe to an interactive table.\"\n",
              "              style=\"display:none;\">\n",
              "        \n",
              "  <svg xmlns=\"http://www.w3.org/2000/svg\" height=\"24px\"viewBox=\"0 0 24 24\"\n",
              "       width=\"24px\">\n",
              "    <path d=\"M0 0h24v24H0V0z\" fill=\"none\"/>\n",
              "    <path d=\"M18.56 5.44l.94 2.06.94-2.06 2.06-.94-2.06-.94-.94-2.06-.94 2.06-2.06.94zm-11 1L8.5 8.5l.94-2.06 2.06-.94-2.06-.94L8.5 2.5l-.94 2.06-2.06.94zm10 10l.94 2.06.94-2.06 2.06-.94-2.06-.94-.94-2.06-.94 2.06-2.06.94z\"/><path d=\"M17.41 7.96l-1.37-1.37c-.4-.4-.92-.59-1.43-.59-.52 0-1.04.2-1.43.59L10.3 9.45l-7.72 7.72c-.78.78-.78 2.05 0 2.83L4 21.41c.39.39.9.59 1.41.59.51 0 1.02-.2 1.41-.59l7.78-7.78 2.81-2.81c.8-.78.8-2.07 0-2.86zM5.41 20L4 18.59l7.72-7.72 1.47 1.35L5.41 20z\"/>\n",
              "  </svg>\n",
              "      </button>\n",
              "      \n",
              "  <style>\n",
              "    .colab-df-container {\n",
              "      display:flex;\n",
              "      flex-wrap:wrap;\n",
              "      gap: 12px;\n",
              "    }\n",
              "\n",
              "    .colab-df-convert {\n",
              "      background-color: #E8F0FE;\n",
              "      border: none;\n",
              "      border-radius: 50%;\n",
              "      cursor: pointer;\n",
              "      display: none;\n",
              "      fill: #1967D2;\n",
              "      height: 32px;\n",
              "      padding: 0 0 0 0;\n",
              "      width: 32px;\n",
              "    }\n",
              "\n",
              "    .colab-df-convert:hover {\n",
              "      background-color: #E2EBFA;\n",
              "      box-shadow: 0px 1px 2px rgba(60, 64, 67, 0.3), 0px 1px 3px 1px rgba(60, 64, 67, 0.15);\n",
              "      fill: #174EA6;\n",
              "    }\n",
              "\n",
              "    [theme=dark] .colab-df-convert {\n",
              "      background-color: #3B4455;\n",
              "      fill: #D2E3FC;\n",
              "    }\n",
              "\n",
              "    [theme=dark] .colab-df-convert:hover {\n",
              "      background-color: #434B5C;\n",
              "      box-shadow: 0px 1px 3px 1px rgba(0, 0, 0, 0.15);\n",
              "      filter: drop-shadow(0px 1px 2px rgba(0, 0, 0, 0.3));\n",
              "      fill: #FFFFFF;\n",
              "    }\n",
              "  </style>\n",
              "\n",
              "      <script>\n",
              "        const buttonEl =\n",
              "          document.querySelector('#df-4f71a258-57d0-4513-a869-cee7e68a960c button.colab-df-convert');\n",
              "        buttonEl.style.display =\n",
              "          google.colab.kernel.accessAllowed ? 'block' : 'none';\n",
              "\n",
              "        async function convertToInteractive(key) {\n",
              "          const element = document.querySelector('#df-4f71a258-57d0-4513-a869-cee7e68a960c');\n",
              "          const dataTable =\n",
              "            await google.colab.kernel.invokeFunction('convertToInteractive',\n",
              "                                                     [key], {});\n",
              "          if (!dataTable) return;\n",
              "\n",
              "          const docLinkHtml = 'Like what you see? Visit the ' +\n",
              "            '<a target=\"_blank\" href=https://colab.research.google.com/notebooks/data_table.ipynb>data table notebook</a>'\n",
              "            + ' to learn more about interactive tables.';\n",
              "          element.innerHTML = '';\n",
              "          dataTable['output_type'] = 'display_data';\n",
              "          await google.colab.output.renderOutput(dataTable, element);\n",
              "          const docLink = document.createElement('div');\n",
              "          docLink.innerHTML = docLinkHtml;\n",
              "          element.appendChild(docLink);\n",
              "        }\n",
              "      </script>\n",
              "    </div>\n",
              "  </div>\n",
              "  "
            ]
          },
          "metadata": {},
          "execution_count": 15
        }
      ]
    },
    {
      "cell_type": "markdown",
      "source": [
        "# Training and Validation Split\n",
        "80% Training\n",
        "20% Validation"
      ],
      "metadata": {
        "id": "EqLXgia4evkS"
      }
    },
    {
      "cell_type": "code",
      "source": [
        "# Sort the dataframe by date\n",
        "dfclean = dfclean.sort_values('Date')\n",
        "\n",
        "# Calculate the index to split the dataframe into train and validation sets\n",
        "split_idx = int(0.8 * len(dfclean))\n",
        "\n",
        "# Split the dataframe into train and validation sets\n",
        "dftrain = dfclean[:split_idx]\n",
        "dfval = dfclean[split_idx:]"
      ],
      "metadata": {
        "id": "T-ZHmebogz2h"
      },
      "execution_count": null,
      "outputs": []
    },
    {
      "cell_type": "code",
      "source": [
        "print(dftrain)\n",
        "print(dfval)"
      ],
      "metadata": {
        "id": "ywXMeozfeSbk",
        "colab": {
          "base_uri": "https://localhost:8080/"
        },
        "outputId": "89d6222e-6b5c-4aeb-dd99-7900744e2fd4"
      },
      "execution_count": null,
      "outputs": [
        {
          "output_type": "stream",
          "name": "stdout",
          "text": [
            "           Date    Open    High     Low   Close   Volume\n",
            "0    2012-01-03  325.25  332.83  324.97  663.59  7380500\n",
            "1    2012-01-04  331.27  333.87  329.08  666.45  5749400\n",
            "2    2012-01-05  329.83  330.75  326.89  657.21  6590300\n",
            "3    2012-01-06  328.34  328.77  323.68  648.24  5405900\n",
            "6    2012-01-11  310.59  313.52  309.40  624.25  4817800\n",
            "...         ...     ...     ...     ...     ...      ...\n",
            "1020 2016-01-25  723.58  729.68  710.01  711.67  1711700\n",
            "1021 2016-01-26  713.85  718.28  706.48  713.04  1331700\n",
            "1022 2016-01-27  713.67  718.23  694.39  699.99  2194200\n",
            "1023 2016-01-28  722.22  733.69  712.35  730.96  2676400\n",
            "1024 2016-01-29  731.53  744.99  726.80  742.95  3474300\n",
            "\n",
            "[930 rows x 6 columns]\n",
            "           Date    Open    High     Low   Close   Volume\n",
            "1025 2016-02-01  750.46  757.86  743.27  752.00  5139200\n",
            "1026 2016-02-02  784.50  789.87  764.65  764.65  6348100\n",
            "1027 2016-02-03  770.22  774.50  720.50  726.95  6171000\n",
            "1028 2016-02-04  722.81  727.00  701.86  708.01  5168700\n",
            "1029 2016-02-05  703.87  703.99  680.15  683.57  5105700\n",
            "...         ...     ...     ...     ...     ...      ...\n",
            "1253 2016-12-23  790.90  792.74  787.28  789.91   623400\n",
            "1254 2016-12-27  790.68  797.86  787.66  791.55   789100\n",
            "1255 2016-12-28  793.70  794.23  783.20  785.05  1153800\n",
            "1256 2016-12-29  783.33  785.93  778.92  782.79   744300\n",
            "1257 2016-12-30  782.75  782.78  770.41  771.82  1770000\n",
            "\n",
            "[233 rows x 6 columns]\n"
          ]
        }
      ]
    },
    {
      "cell_type": "markdown",
      "source": [
        "# Scaling Data"
      ],
      "metadata": {
        "id": "x3lVvQmSTLLr"
      }
    },
    {
      "cell_type": "code",
      "source": [
        "def preprocess_data(data, prediction_days):\n",
        "    # Scale the data\n",
        "    scaler = MinMaxScaler(feature_range=(0, 1))\n",
        "    scaled_data = scaler.fit_transform(data.values.reshape(-1, 1))\n",
        "\n",
        "    # Prepare the data for training\n",
        "    x_data = []\n",
        "    y_data = []\n",
        "    for x in range(prediction_days, len(scaled_data)):\n",
        "        x_data.append(scaled_data[x - prediction_days : x, 0])\n",
        "        y_data.append(scaled_data[x, 0])\n",
        "\n",
        "    x_data, y_data = np.array(x_data), np.array(y_data)\n",
        "    x_data = np.reshape(x_data, (x_data.shape[0], x_data.shape[1], 1))\n",
        "\n",
        "    return x_data, y_data, scaler"
      ],
      "metadata": {
        "id": "nfvqe_sG3bTG"
      },
      "execution_count": null,
      "outputs": []
    },
    {
      "cell_type": "code",
      "source": [
        "# Use 60 days as the basis to predicting the next 1 day\n",
        "prediction_days = 60\n",
        "\n",
        "# Preprocess the training data\n",
        "x_train, y_train, scaler_train = preprocess_data(dftrain[\"Close\"], prediction_days)\n",
        "\n",
        "# Preprocess the validation data\n",
        "x_val, y_val, scaler_val = preprocess_data(dfval[\"Close\"], prediction_days)"
      ],
      "metadata": {
        "id": "qxk17ywf3iZB"
      },
      "execution_count": null,
      "outputs": []
    },
    {
      "cell_type": "markdown",
      "source": [
        "# LSTM"
      ],
      "metadata": {
        "id": "3q6OtWPuVRln"
      }
    },
    {
      "cell_type": "code",
      "source": [
        "model = Sequential()\n",
        "model.add(LSTM(units=50, return_sequences=True, input_shape=(x_train.shape[1], 1)))\n",
        "model.add(Dropout(0.2))\n",
        "model.add(LSTM(units=50, return_sequences=True))\n",
        "model.add(Dropout(0.2))\n",
        "model.add(LSTM(units=50))\n",
        "model.add(Dropout(0.2))\n",
        "model.add(Dense(units=1))"
      ],
      "metadata": {
        "id": "PTjMqEiiVS-Q"
      },
      "execution_count": null,
      "outputs": []
    },
    {
      "cell_type": "code",
      "source": [
        "from keras.callbacks import EarlyStopping\n",
        "early_stopping = EarlyStopping(monitor=\"val_loss\",\n",
        "                               mode = 'auto',\n",
        "                               patience=15)"
      ],
      "metadata": {
        "id": "kYb_qO908B2e"
      },
      "execution_count": null,
      "outputs": []
    },
    {
      "cell_type": "code",
      "source": [
        "model.compile(optimizer='adam', loss='mean_squared_error')\n",
        "history = model.fit(x_train, y_train, epochs=300, batch_size=25, validation_data=(x_val, y_val), callbacks=[early_stopping])"
      ],
      "metadata": {
        "id": "6PXJeQDwWPhU",
        "colab": {
          "base_uri": "https://localhost:8080/"
        },
        "outputId": "4771c309-e45d-4a74-fff2-4842aa9fd72a"
      },
      "execution_count": null,
      "outputs": [
        {
          "output_type": "stream",
          "name": "stdout",
          "text": [
            "Epoch 1/300\n",
            "35/35 [==============================] - 30s 351ms/step - loss: 0.0364 - val_loss: 0.0391\n",
            "Epoch 2/300\n",
            "35/35 [==============================] - 7s 198ms/step - loss: 0.0125 - val_loss: 0.0229\n",
            "Epoch 3/300\n",
            "35/35 [==============================] - 4s 109ms/step - loss: 0.0098 - val_loss: 0.0299\n",
            "Epoch 4/300\n",
            "35/35 [==============================] - 3s 94ms/step - loss: 0.0097 - val_loss: 0.0177\n",
            "Epoch 5/300\n",
            "35/35 [==============================] - 3s 94ms/step - loss: 0.0085 - val_loss: 0.0151\n",
            "Epoch 6/300\n",
            "35/35 [==============================] - 5s 144ms/step - loss: 0.0078 - val_loss: 0.0141\n",
            "Epoch 7/300\n",
            "35/35 [==============================] - 3s 98ms/step - loss: 0.0069 - val_loss: 0.0162\n",
            "Epoch 8/300\n",
            "35/35 [==============================] - 3s 94ms/step - loss: 0.0072 - val_loss: 0.0204\n",
            "Epoch 9/300\n",
            "35/35 [==============================] - 3s 95ms/step - loss: 0.0061 - val_loss: 0.0119\n",
            "Epoch 10/300\n",
            "35/35 [==============================] - 5s 155ms/step - loss: 0.0060 - val_loss: 0.0196\n",
            "Epoch 11/300\n",
            "35/35 [==============================] - 3s 96ms/step - loss: 0.0064 - val_loss: 0.0119\n",
            "Epoch 12/300\n",
            "35/35 [==============================] - 3s 97ms/step - loss: 0.0062 - val_loss: 0.0104\n",
            "Epoch 13/300\n",
            "35/35 [==============================] - 4s 105ms/step - loss: 0.0058 - val_loss: 0.0097\n",
            "Epoch 14/300\n",
            "35/35 [==============================] - 5s 140ms/step - loss: 0.0062 - val_loss: 0.0106\n",
            "Epoch 15/300\n",
            "35/35 [==============================] - 3s 96ms/step - loss: 0.0050 - val_loss: 0.0107\n",
            "Epoch 16/300\n",
            "35/35 [==============================] - 3s 96ms/step - loss: 0.0059 - val_loss: 0.0111\n",
            "Epoch 17/300\n",
            "35/35 [==============================] - 4s 120ms/step - loss: 0.0053 - val_loss: 0.0135\n",
            "Epoch 18/300\n",
            "35/35 [==============================] - 4s 124ms/step - loss: 0.0046 - val_loss: 0.0092\n",
            "Epoch 19/300\n",
            "35/35 [==============================] - 3s 96ms/step - loss: 0.0055 - val_loss: 0.0101\n",
            "Epoch 20/300\n",
            "35/35 [==============================] - 5s 143ms/step - loss: 0.0049 - val_loss: 0.0098\n",
            "Epoch 21/300\n",
            "35/35 [==============================] - 6s 158ms/step - loss: 0.0043 - val_loss: 0.0081\n",
            "Epoch 22/300\n",
            "35/35 [==============================] - 3s 96ms/step - loss: 0.0044 - val_loss: 0.0097\n",
            "Epoch 23/300\n",
            "35/35 [==============================] - 3s 95ms/step - loss: 0.0041 - val_loss: 0.0086\n",
            "Epoch 24/300\n",
            "35/35 [==============================] - 4s 106ms/step - loss: 0.0038 - val_loss: 0.0080\n",
            "Epoch 25/300\n",
            "35/35 [==============================] - 5s 140ms/step - loss: 0.0042 - val_loss: 0.0075\n",
            "Epoch 26/300\n",
            "35/35 [==============================] - 3s 97ms/step - loss: 0.0046 - val_loss: 0.0073\n",
            "Epoch 27/300\n",
            "35/35 [==============================] - 4s 121ms/step - loss: 0.0044 - val_loss: 0.0081\n",
            "Epoch 28/300\n",
            "35/35 [==============================] - 5s 146ms/step - loss: 0.0041 - val_loss: 0.0071\n",
            "Epoch 29/300\n",
            "35/35 [==============================] - 4s 104ms/step - loss: 0.0045 - val_loss: 0.0069\n",
            "Epoch 30/300\n",
            "35/35 [==============================] - 3s 97ms/step - loss: 0.0039 - val_loss: 0.0093\n",
            "Epoch 31/300\n",
            "35/35 [==============================] - 3s 97ms/step - loss: 0.0037 - val_loss: 0.0067\n",
            "Epoch 32/300\n",
            "35/35 [==============================] - 5s 157ms/step - loss: 0.0033 - val_loss: 0.0066\n",
            "Epoch 33/300\n",
            "35/35 [==============================] - 5s 137ms/step - loss: 0.0043 - val_loss: 0.0077\n",
            "Epoch 34/300\n",
            "35/35 [==============================] - 3s 98ms/step - loss: 0.0035 - val_loss: 0.0064\n",
            "Epoch 35/300\n",
            "35/35 [==============================] - 5s 141ms/step - loss: 0.0037 - val_loss: 0.0070\n",
            "Epoch 36/300\n",
            "35/35 [==============================] - 4s 105ms/step - loss: 0.0040 - val_loss: 0.0080\n",
            "Epoch 37/300\n",
            "35/35 [==============================] - 3s 98ms/step - loss: 0.0029 - val_loss: 0.0061\n",
            "Epoch 38/300\n",
            "35/35 [==============================] - 3s 96ms/step - loss: 0.0037 - val_loss: 0.0072\n",
            "Epoch 39/300\n",
            "35/35 [==============================] - 5s 154ms/step - loss: 0.0037 - val_loss: 0.0059\n",
            "Epoch 40/300\n",
            "35/35 [==============================] - 3s 97ms/step - loss: 0.0032 - val_loss: 0.0058\n",
            "Epoch 41/300\n",
            "35/35 [==============================] - 3s 100ms/step - loss: 0.0039 - val_loss: 0.0063\n",
            "Epoch 42/300\n",
            "35/35 [==============================] - 4s 118ms/step - loss: 0.0034 - val_loss: 0.0059\n",
            "Epoch 43/300\n",
            "35/35 [==============================] - 5s 133ms/step - loss: 0.0031 - val_loss: 0.0058\n",
            "Epoch 44/300\n",
            "35/35 [==============================] - 3s 98ms/step - loss: 0.0032 - val_loss: 0.0055\n",
            "Epoch 45/300\n",
            "35/35 [==============================] - 3s 98ms/step - loss: 0.0028 - val_loss: 0.0056\n",
            "Epoch 46/300\n",
            "35/35 [==============================] - 5s 134ms/step - loss: 0.0032 - val_loss: 0.0058\n",
            "Epoch 47/300\n",
            "35/35 [==============================] - 4s 117ms/step - loss: 0.0030 - val_loss: 0.0062\n",
            "Epoch 48/300\n",
            "35/35 [==============================] - 3s 98ms/step - loss: 0.0031 - val_loss: 0.0054\n",
            "Epoch 49/300\n",
            "35/35 [==============================] - 3s 97ms/step - loss: 0.0030 - val_loss: 0.0054\n",
            "Epoch 50/300\n",
            "35/35 [==============================] - 5s 152ms/step - loss: 0.0034 - val_loss: 0.0060\n",
            "Epoch 51/300\n",
            "35/35 [==============================] - 3s 98ms/step - loss: 0.0031 - val_loss: 0.0054\n",
            "Epoch 52/300\n",
            "35/35 [==============================] - 3s 98ms/step - loss: 0.0032 - val_loss: 0.0054\n",
            "Epoch 53/300\n",
            "35/35 [==============================] - 4s 105ms/step - loss: 0.0036 - val_loss: 0.0056\n",
            "Epoch 54/300\n",
            "35/35 [==============================] - 5s 143ms/step - loss: 0.0026 - val_loss: 0.0053\n",
            "Epoch 55/300\n",
            "35/35 [==============================] - 3s 97ms/step - loss: 0.0035 - val_loss: 0.0058\n",
            "Epoch 56/300\n",
            "35/35 [==============================] - 3s 99ms/step - loss: 0.0041 - val_loss: 0.0052\n",
            "Epoch 57/300\n",
            "35/35 [==============================] - 5s 133ms/step - loss: 0.0028 - val_loss: 0.0050\n",
            "Epoch 58/300\n",
            "35/35 [==============================] - 4s 121ms/step - loss: 0.0028 - val_loss: 0.0048\n",
            "Epoch 59/300\n",
            "35/35 [==============================] - 4s 103ms/step - loss: 0.0028 - val_loss: 0.0054\n",
            "Epoch 60/300\n",
            "35/35 [==============================] - 3s 98ms/step - loss: 0.0032 - val_loss: 0.0054\n",
            "Epoch 61/300\n",
            "35/35 [==============================] - 5s 152ms/step - loss: 0.0025 - val_loss: 0.0052\n",
            "Epoch 62/300\n",
            "35/35 [==============================] - 3s 98ms/step - loss: 0.0024 - val_loss: 0.0056\n",
            "Epoch 63/300\n",
            "35/35 [==============================] - 3s 98ms/step - loss: 0.0030 - val_loss: 0.0052\n",
            "Epoch 64/300\n",
            "35/35 [==============================] - 4s 109ms/step - loss: 0.0023 - val_loss: 0.0054\n",
            "Epoch 65/300\n",
            "35/35 [==============================] - 5s 141ms/step - loss: 0.0029 - val_loss: 0.0050\n",
            "Epoch 66/300\n",
            "35/35 [==============================] - 4s 125ms/step - loss: 0.0033 - val_loss: 0.0048\n",
            "Epoch 67/300\n",
            "35/35 [==============================] - 5s 129ms/step - loss: 0.0027 - val_loss: 0.0045\n",
            "Epoch 68/300\n",
            "35/35 [==============================] - 5s 148ms/step - loss: 0.0026 - val_loss: 0.0067\n",
            "Epoch 69/300\n",
            "35/35 [==============================] - 3s 98ms/step - loss: 0.0029 - val_loss: 0.0045\n",
            "Epoch 70/300\n",
            "35/35 [==============================] - 3s 98ms/step - loss: 0.0028 - val_loss: 0.0047\n",
            "Epoch 71/300\n",
            "35/35 [==============================] - 4s 124ms/step - loss: 0.0028 - val_loss: 0.0050\n",
            "Epoch 72/300\n",
            "35/35 [==============================] - 5s 129ms/step - loss: 0.0025 - val_loss: 0.0046\n",
            "Epoch 73/300\n",
            "35/35 [==============================] - 4s 101ms/step - loss: 0.0027 - val_loss: 0.0044\n",
            "Epoch 74/300\n",
            "35/35 [==============================] - 3s 99ms/step - loss: 0.0025 - val_loss: 0.0043\n",
            "Epoch 75/300\n",
            "35/35 [==============================] - 5s 147ms/step - loss: 0.0023 - val_loss: 0.0047\n",
            "Epoch 76/300\n",
            "35/35 [==============================] - 4s 103ms/step - loss: 0.0029 - val_loss: 0.0048\n",
            "Epoch 77/300\n",
            "35/35 [==============================] - 3s 99ms/step - loss: 0.0028 - val_loss: 0.0044\n",
            "Epoch 78/300\n",
            "35/35 [==============================] - 4s 102ms/step - loss: 0.0026 - val_loss: 0.0049\n",
            "Epoch 79/300\n",
            "35/35 [==============================] - 5s 148ms/step - loss: 0.0024 - val_loss: 0.0045\n",
            "Epoch 80/300\n",
            "35/35 [==============================] - 3s 98ms/step - loss: 0.0026 - val_loss: 0.0044\n",
            "Epoch 81/300\n",
            "35/35 [==============================] - 3s 98ms/step - loss: 0.0022 - val_loss: 0.0043\n",
            "Epoch 82/300\n",
            "35/35 [==============================] - 4s 125ms/step - loss: 0.0027 - val_loss: 0.0045\n",
            "Epoch 83/300\n",
            "35/35 [==============================] - 4s 126ms/step - loss: 0.0026 - val_loss: 0.0043\n",
            "Epoch 84/300\n",
            "35/35 [==============================] - 3s 99ms/step - loss: 0.0024 - val_loss: 0.0053\n",
            "Epoch 85/300\n",
            "35/35 [==============================] - 3s 99ms/step - loss: 0.0023 - val_loss: 0.0050\n",
            "Epoch 86/300\n",
            "35/35 [==============================] - 5s 149ms/step - loss: 0.0022 - val_loss: 0.0059\n",
            "Epoch 87/300\n",
            "35/35 [==============================] - 4s 108ms/step - loss: 0.0025 - val_loss: 0.0045\n",
            "Epoch 88/300\n",
            "35/35 [==============================] - 4s 102ms/step - loss: 0.0025 - val_loss: 0.0050\n",
            "Epoch 89/300\n",
            "35/35 [==============================] - 4s 107ms/step - loss: 0.0026 - val_loss: 0.0041\n",
            "Epoch 90/300\n",
            "35/35 [==============================] - 5s 145ms/step - loss: 0.0022 - val_loss: 0.0047\n",
            "Epoch 91/300\n",
            "35/35 [==============================] - 3s 98ms/step - loss: 0.0022 - val_loss: 0.0039\n",
            "Epoch 92/300\n",
            "35/35 [==============================] - 3s 100ms/step - loss: 0.0024 - val_loss: 0.0042\n",
            "Epoch 93/300\n",
            "35/35 [==============================] - 5s 131ms/step - loss: 0.0023 - val_loss: 0.0039\n",
            "Epoch 94/300\n",
            "35/35 [==============================] - 4s 120ms/step - loss: 0.0020 - val_loss: 0.0044\n",
            "Epoch 95/300\n",
            "35/35 [==============================] - 3s 99ms/step - loss: 0.0022 - val_loss: 0.0043\n",
            "Epoch 96/300\n",
            "35/35 [==============================] - 3s 99ms/step - loss: 0.0022 - val_loss: 0.0043\n",
            "Epoch 97/300\n",
            "35/35 [==============================] - 5s 152ms/step - loss: 0.0024 - val_loss: 0.0040\n",
            "Epoch 98/300\n",
            "35/35 [==============================] - 3s 99ms/step - loss: 0.0020 - val_loss: 0.0040\n",
            "Epoch 99/300\n",
            "35/35 [==============================] - 4s 100ms/step - loss: 0.0026 - val_loss: 0.0049\n",
            "Epoch 100/300\n",
            "35/35 [==============================] - 4s 106ms/step - loss: 0.0024 - val_loss: 0.0039\n",
            "Epoch 101/300\n",
            "35/35 [==============================] - 5s 146ms/step - loss: 0.0021 - val_loss: 0.0038\n",
            "Epoch 102/300\n",
            "35/35 [==============================] - 4s 100ms/step - loss: 0.0025 - val_loss: 0.0039\n",
            "Epoch 103/300\n",
            "35/35 [==============================] - 4s 101ms/step - loss: 0.0022 - val_loss: 0.0042\n",
            "Epoch 104/300\n",
            "35/35 [==============================] - 5s 134ms/step - loss: 0.0027 - val_loss: 0.0040\n",
            "Epoch 105/300\n",
            "35/35 [==============================] - 4s 121ms/step - loss: 0.0021 - val_loss: 0.0043\n",
            "Epoch 106/300\n",
            "35/35 [==============================] - 4s 104ms/step - loss: 0.0020 - val_loss: 0.0038\n",
            "Epoch 107/300\n",
            "35/35 [==============================] - 3s 99ms/step - loss: 0.0023 - val_loss: 0.0048\n",
            "Epoch 108/300\n",
            "35/35 [==============================] - 5s 154ms/step - loss: 0.0026 - val_loss: 0.0040\n",
            "Epoch 109/300\n",
            "35/35 [==============================] - 3s 100ms/step - loss: 0.0023 - val_loss: 0.0037\n",
            "Epoch 110/300\n",
            "35/35 [==============================] - 3s 98ms/step - loss: 0.0020 - val_loss: 0.0039\n",
            "Epoch 111/300\n",
            "35/35 [==============================] - 4s 116ms/step - loss: 0.0024 - val_loss: 0.0037\n",
            "Epoch 112/300\n",
            "35/35 [==============================] - 5s 151ms/step - loss: 0.0022 - val_loss: 0.0036\n",
            "Epoch 113/300\n",
            "35/35 [==============================] - 5s 137ms/step - loss: 0.0023 - val_loss: 0.0036\n",
            "Epoch 114/300\n",
            "35/35 [==============================] - 4s 108ms/step - loss: 0.0021 - val_loss: 0.0037\n",
            "Epoch 115/300\n",
            "35/35 [==============================] - 5s 144ms/step - loss: 0.0020 - val_loss: 0.0043\n",
            "Epoch 116/300\n",
            "35/35 [==============================] - 4s 103ms/step - loss: 0.0022 - val_loss: 0.0037\n",
            "Epoch 117/300\n",
            "35/35 [==============================] - 4s 101ms/step - loss: 0.0022 - val_loss: 0.0037\n",
            "Epoch 118/300\n",
            "35/35 [==============================] - 5s 141ms/step - loss: 0.0025 - val_loss: 0.0036\n",
            "Epoch 119/300\n",
            "35/35 [==============================] - 4s 113ms/step - loss: 0.0020 - val_loss: 0.0036\n",
            "Epoch 120/300\n",
            "35/35 [==============================] - 3s 100ms/step - loss: 0.0022 - val_loss: 0.0037\n",
            "Epoch 121/300\n",
            "35/35 [==============================] - 4s 100ms/step - loss: 0.0020 - val_loss: 0.0041\n",
            "Epoch 122/300\n",
            "35/35 [==============================] - 5s 154ms/step - loss: 0.0022 - val_loss: 0.0035\n",
            "Epoch 123/300\n",
            "35/35 [==============================] - 3s 99ms/step - loss: 0.0026 - val_loss: 0.0037\n",
            "Epoch 124/300\n",
            "35/35 [==============================] - 4s 100ms/step - loss: 0.0020 - val_loss: 0.0036\n",
            "Epoch 125/300\n",
            "35/35 [==============================] - 4s 115ms/step - loss: 0.0023 - val_loss: 0.0054\n",
            "Epoch 126/300\n",
            "35/35 [==============================] - 5s 136ms/step - loss: 0.0019 - val_loss: 0.0036\n",
            "Epoch 127/300\n",
            "35/35 [==============================] - 3s 99ms/step - loss: 0.0021 - val_loss: 0.0035\n",
            "Epoch 128/300\n",
            "35/35 [==============================] - 4s 100ms/step - loss: 0.0023 - val_loss: 0.0037\n",
            "Epoch 129/300\n",
            "35/35 [==============================] - 5s 141ms/step - loss: 0.0023 - val_loss: 0.0048\n",
            "Epoch 130/300\n",
            "35/35 [==============================] - 4s 116ms/step - loss: 0.0027 - val_loss: 0.0036\n",
            "Epoch 131/300\n",
            "35/35 [==============================] - 4s 101ms/step - loss: 0.0020 - val_loss: 0.0048\n",
            "Epoch 132/300\n",
            "35/35 [==============================] - 4s 102ms/step - loss: 0.0020 - val_loss: 0.0035\n",
            "Epoch 133/300\n",
            "35/35 [==============================] - 6s 157ms/step - loss: 0.0025 - val_loss: 0.0036\n",
            "Epoch 134/300\n",
            "35/35 [==============================] - 3s 100ms/step - loss: 0.0021 - val_loss: 0.0039\n",
            "Epoch 135/300\n",
            "35/35 [==============================] - 4s 100ms/step - loss: 0.0022 - val_loss: 0.0034\n",
            "Epoch 136/300\n",
            "35/35 [==============================] - 5s 130ms/step - loss: 0.0022 - val_loss: 0.0034\n",
            "Epoch 137/300\n",
            "35/35 [==============================] - 4s 123ms/step - loss: 0.0022 - val_loss: 0.0037\n",
            "Epoch 138/300\n",
            "35/35 [==============================] - 3s 99ms/step - loss: 0.0019 - val_loss: 0.0034\n",
            "Epoch 139/300\n",
            "35/35 [==============================] - 3s 99ms/step - loss: 0.0022 - val_loss: 0.0052\n",
            "Epoch 140/300\n",
            "35/35 [==============================] - 5s 153ms/step - loss: 0.0025 - val_loss: 0.0033\n",
            "Epoch 141/300\n",
            "35/35 [==============================] - 4s 100ms/step - loss: 0.0020 - val_loss: 0.0037\n",
            "Epoch 142/300\n",
            "35/35 [==============================] - 3s 99ms/step - loss: 0.0023 - val_loss: 0.0041\n",
            "Epoch 143/300\n",
            "35/35 [==============================] - 4s 105ms/step - loss: 0.0021 - val_loss: 0.0040\n",
            "Epoch 144/300\n",
            "35/35 [==============================] - 5s 144ms/step - loss: 0.0021 - val_loss: 0.0046\n",
            "Epoch 145/300\n",
            "35/35 [==============================] - 4s 101ms/step - loss: 0.0023 - val_loss: 0.0035\n",
            "Epoch 146/300\n",
            "35/35 [==============================] - 4s 102ms/step - loss: 0.0024 - val_loss: 0.0051\n",
            "Epoch 147/300\n",
            "35/35 [==============================] - 5s 135ms/step - loss: 0.0027 - val_loss: 0.0035\n",
            "Epoch 148/300\n",
            "35/35 [==============================] - 4s 119ms/step - loss: 0.0023 - val_loss: 0.0037\n",
            "Epoch 149/300\n",
            "35/35 [==============================] - 3s 99ms/step - loss: 0.0019 - val_loss: 0.0035\n",
            "Epoch 150/300\n",
            "35/35 [==============================] - 3s 100ms/step - loss: 0.0020 - val_loss: 0.0035\n",
            "Epoch 151/300\n",
            "35/35 [==============================] - 5s 155ms/step - loss: 0.0024 - val_loss: 0.0047\n",
            "Epoch 152/300\n",
            "35/35 [==============================] - 3s 100ms/step - loss: 0.0025 - val_loss: 0.0034\n",
            "Epoch 153/300\n",
            "35/35 [==============================] - 4s 100ms/step - loss: 0.0022 - val_loss: 0.0034\n",
            "Epoch 154/300\n",
            "35/35 [==============================] - 4s 114ms/step - loss: 0.0021 - val_loss: 0.0034\n",
            "Epoch 155/300\n",
            "35/35 [==============================] - 5s 137ms/step - loss: 0.0023 - val_loss: 0.0042\n"
          ]
        }
      ]
    },
    {
      "cell_type": "code",
      "source": [
        "# Plotting Loss along Epoch\n",
        "plt.plot(history.history['loss'])\n",
        "plt.plot(history.history['val_loss'])\n",
        "plt.title('Model Loss', size=25, pad=20)\n",
        "plt.ylabel('Loss', size=15)\n",
        "plt.xlabel('Epoch', size=15)\n",
        "plt.legend(['training', 'validation'], loc='upper left')"
      ],
      "metadata": {
        "id": "7AbkQZyK_Kxj",
        "colab": {
          "base_uri": "https://localhost:8080/",
          "height": 343
        },
        "outputId": "e04b4819-e188-4402-92b0-5d319b4a15a4"
      },
      "execution_count": null,
      "outputs": [
        {
          "output_type": "execute_result",
          "data": {
            "text/plain": [
              "<matplotlib.legend.Legend at 0x7efdefc17070>"
            ]
          },
          "metadata": {},
          "execution_count": 23
        },
        {
          "output_type": "display_data",
          "data": {
            "text/plain": [
              "<Figure size 432x288 with 1 Axes>"
            ],
            "image/png": "[encoded data removed]"
          },
          "metadata": {
            "needs_background": "light"
          }
        }
      ]
    },
    {
      "cell_type": "markdown",
      "source": [
        "# Testing LSTM\n"
      ],
      "metadata": {
        "id": "SHzP1_2h5Xbq"
      }
    },
    {
      "cell_type": "code",
      "source": [
        "dftest = load_data('/content/Google_Stock_Price_Test.csv')\n",
        "\n",
        "# Show the first 5 rows of dataset\n",
        "dftest.head()"
      ],
      "metadata": {
        "id": "R8Ka-phDBYRz",
        "colab": {
          "base_uri": "https://localhost:8080/",
          "height": 206
        },
        "outputId": "e2e5c35f-d478-4adc-c332-5782ee70479e"
      },
      "execution_count": null,
      "outputs": [
        {
          "output_type": "execute_result",
          "data": {
            "text/plain": [
              "        Date    Open    High     Low   Close   Volume\n",
              "0 2017-01-03  778.81  789.63  775.80  786.14  1657300\n",
              "1 2017-01-04  788.36  791.34  783.16  786.90  1073000\n",
              "2 2017-01-05  786.08  794.48  785.02  794.02  1335200\n",
              "3 2017-01-06  795.26  807.90  792.20  806.15  1640200\n",
              "4 2017-01-09  806.40  809.97  802.83  806.65  1272400"
            ],
            "text/html": [
              "\n",
              "  <div id=\"df-8b3422c5-4724-40db-8bcd-56c3ecb2b939\">\n",
              "    <div class=\"colab-df-container\">\n",
              "      <div>\n",
              "<style scoped>\n",
              "    .dataframe tbody tr th:only-of-type {\n",
              "        vertical-align: middle;\n",
              "    }\n",
              "\n",
              "    .dataframe tbody tr th {\n",
              "        vertical-align: top;\n",
              "    }\n",
              "\n",
              "    .dataframe thead th {\n",
              "        text-align: right;\n",
              "    }\n",
              "</style>\n",
              "<table border=\"1\" class=\"dataframe\">\n",
              "  <thead>\n",
              "    <tr style=\"text-align: right;\">\n",
              "      <th></th>\n",
              "      <th>Date</th>\n",
              "      <th>Open</th>\n",
              "      <th>High</th>\n",
              "      <th>Low</th>\n",
              "      <th>Close</th>\n",
              "      <th>Volume</th>\n",
              "    </tr>\n",
              "  </thead>\n",
              "  <tbody>\n",
              "    <tr>\n",
              "      <th>0</th>\n",
              "      <td>2017-01-03</td>\n",
              "      <td>778.81</td>\n",
              "      <td>789.63</td>\n",
              "      <td>775.80</td>\n",
              "      <td>786.14</td>\n",
              "      <td>1657300</td>\n",
              "    </tr>\n",
              "    <tr>\n",
              "      <th>1</th>\n",
              "      <td>2017-01-04</td>\n",
              "      <td>788.36</td>\n",
              "      <td>791.34</td>\n",
              "      <td>783.16</td>\n",
              "      <td>786.90</td>\n",
              "      <td>1073000</td>\n",
              "    </tr>\n",
              "    <tr>\n",
              "      <th>2</th>\n",
              "      <td>2017-01-05</td>\n",
              "      <td>786.08</td>\n",
              "      <td>794.48</td>\n",
              "      <td>785.02</td>\n",
              "      <td>794.02</td>\n",
              "      <td>1335200</td>\n",
              "    </tr>\n",
              "    <tr>\n",
              "      <th>3</th>\n",
              "      <td>2017-01-06</td>\n",
              "      <td>795.26</td>\n",
              "      <td>807.90</td>\n",
              "      <td>792.20</td>\n",
              "      <td>806.15</td>\n",
              "      <td>1640200</td>\n",
              "    </tr>\n",
              "    <tr>\n",
              "      <th>4</th>\n",
              "      <td>2017-01-09</td>\n",
              "      <td>806.40</td>\n",
              "      <td>809.97</td>\n",
              "      <td>802.83</td>\n",
              "      <td>806.65</td>\n",
              "      <td>1272400</td>\n",
              "    </tr>\n",
              "  </tbody>\n",
              "</table>\n",
              "</div>\n",
              "      <button class=\"colab-df-convert\" onclick=\"convertToInteractive('df-8b3422c5-4724-40db-8bcd-56c3ecb2b939')\"\n",
              "              title=\"Convert this dataframe to an interactive table.\"\n",
              "              style=\"display:none;\">\n",
              "        \n",
              "  <svg xmlns=\"http://www.w3.org/2000/svg\" height=\"24px\"viewBox=\"0 0 24 24\"\n",
              "       width=\"24px\">\n",
              "    <path d=\"M0 0h24v24H0V0z\" fill=\"none\"/>\n",
              "    <path d=\"M18.56 5.44l.94 2.06.94-2.06 2.06-.94-2.06-.94-.94-2.06-.94 2.06-2.06.94zm-11 1L8.5 8.5l.94-2.06 2.06-.94-2.06-.94L8.5 2.5l-.94 2.06-2.06.94zm10 10l.94 2.06.94-2.06 2.06-.94-2.06-.94-.94-2.06-.94 2.06-2.06.94z\"/><path d=\"M17.41 7.96l-1.37-1.37c-.4-.4-.92-.59-1.43-.59-.52 0-1.04.2-1.43.59L10.3 9.45l-7.72 7.72c-.78.78-.78 2.05 0 2.83L4 21.41c.39.39.9.59 1.41.59.51 0 1.02-.2 1.41-.59l7.78-7.78 2.81-2.81c.8-.78.8-2.07 0-2.86zM5.41 20L4 18.59l7.72-7.72 1.47 1.35L5.41 20z\"/>\n",
              "  </svg>\n",
              "      </button>\n",
              "      \n",
              "  <style>\n",
              "    .colab-df-container {\n",
              "      display:flex;\n",
              "      flex-wrap:wrap;\n",
              "      gap: 12px;\n",
              "    }\n",
              "\n",
              "    .colab-df-convert {\n",
              "      background-color: #E8F0FE;\n",
              "      border: none;\n",
              "      border-radius: 50%;\n",
              "      cursor: pointer;\n",
              "      display: none;\n",
              "      fill: #1967D2;\n",
              "      height: 32px;\n",
              "      padding: 0 0 0 0;\n",
              "      width: 32px;\n",
              "    }\n",
              "\n",
              "    .colab-df-convert:hover {\n",
              "      background-color: #E2EBFA;\n",
              "      box-shadow: 0px 1px 2px rgba(60, 64, 67, 0.3), 0px 1px 3px 1px rgba(60, 64, 67, 0.15);\n",
              "      fill: #174EA6;\n",
              "    }\n",
              "\n",
              "    [theme=dark] .colab-df-convert {\n",
              "      background-color: #3B4455;\n",
              "      fill: #D2E3FC;\n",
              "    }\n",
              "\n",
              "    [theme=dark] .colab-df-convert:hover {\n",
              "      background-color: #434B5C;\n",
              "      box-shadow: 0px 1px 3px 1px rgba(0, 0, 0, 0.15);\n",
              "      filter: drop-shadow(0px 1px 2px rgba(0, 0, 0, 0.3));\n",
              "      fill: #FFFFFF;\n",
              "    }\n",
              "  </style>\n",
              "\n",
              "      <script>\n",
              "        const buttonEl =\n",
              "          document.querySelector('#df-8b3422c5-4724-40db-8bcd-56c3ecb2b939 button.colab-df-convert');\n",
              "        buttonEl.style.display =\n",
              "          google.colab.kernel.accessAllowed ? 'block' : 'none';\n",
              "\n",
              "        async function convertToInteractive(key) {\n",
              "          const element = document.querySelector('#df-8b3422c5-4724-40db-8bcd-56c3ecb2b939');\n",
              "          const dataTable =\n",
              "            await google.colab.kernel.invokeFunction('convertToInteractive',\n",
              "                                                     [key], {});\n",
              "          if (!dataTable) return;\n",
              "\n",
              "          const docLinkHtml = 'Like what you see? Visit the ' +\n",
              "            '<a target=\"_blank\" href=https://colab.research.google.com/notebooks/data_table.ipynb>data table notebook</a>'\n",
              "            + ' to learn more about interactive tables.';\n",
              "          element.innerHTML = '';\n",
              "          dataTable['output_type'] = 'display_data';\n",
              "          await google.colab.output.renderOutput(dataTable, element);\n",
              "          const docLink = document.createElement('div');\n",
              "          docLink.innerHTML = docLinkHtml;\n",
              "          element.appendChild(docLink);\n",
              "        }\n",
              "      </script>\n",
              "    </div>\n",
              "  </div>\n",
              "  "
            ]
          },
          "metadata": {},
          "execution_count": 24
        }
      ]
    },
    {
      "cell_type": "code",
      "source": [
        "actual_prices = dftest['Close'].values\n",
        "total_dataset = pd.concat((dfclean['Close'], dftest['Close']), axis=0)"
      ],
      "metadata": {
        "id": "BvvLcds6CamI"
      },
      "execution_count": null,
      "outputs": []
    },
    {
      "cell_type": "code",
      "source": [
        "model_inputs = total_dataset[len(total_dataset) - len(dftest) - prediction_days:].values"
      ],
      "metadata": {
        "id": "4FdPQxtkC6_x"
      },
      "execution_count": null,
      "outputs": []
    },
    {
      "cell_type": "code",
      "source": [
        "def preprocess_test_data(data, prediction_days):\n",
        "    # Scale the data\n",
        "    scaler = MinMaxScaler(feature_range=(0, 1))\n",
        "    scaled_data = scaler.fit_transform(data.reshape(-1, 1))\n",
        "\n",
        "    # Prepare the data for testing\n",
        "    x_data = []\n",
        "    for x in range(prediction_days, len(scaled_data)):\n",
        "        x_data.append(scaled_data[x - prediction_days : x, 0])\n",
        "\n",
        "    x_data = np.array(x_data)\n",
        "    x_data = np.reshape(x_data, (x_data.shape[0], x_data.shape[1], 1))\n",
        "\n",
        "    return x_data, scaler"
      ],
      "metadata": {
        "id": "TairxCoQEmzM"
      },
      "execution_count": null,
      "outputs": []
    },
    {
      "cell_type": "code",
      "source": [
        "x_test, scaler_test = preprocess_test_data(model_inputs, prediction_days)"
      ],
      "metadata": {
        "id": "RlcUS2ekE7ZN"
      },
      "execution_count": null,
      "outputs": []
    },
    {
      "cell_type": "code",
      "source": [
        "predicted_prices = model.predict(x_test)\n",
        "predicted_prices = scaler_test.inverse_transform(predicted_prices)"
      ],
      "metadata": {
        "id": "1J1AsFQXBzZQ",
        "colab": {
          "base_uri": "https://localhost:8080/"
        },
        "outputId": "7efd5b03-0620-444d-b687-adf8e4104a74"
      },
      "execution_count": null,
      "outputs": [
        {
          "output_type": "stream",
          "name": "stdout",
          "text": [
            "1/1 [==============================] - 2s 2s/step\n"
          ]
        }
      ]
    },
    {
      "cell_type": "code",
      "source": [
        "plt.plot(actual_prices, color='black', label='Actual Price')\n",
        "plt.plot(predicted_prices, color='green', label='Predicted Price')\n",
        "plt.xlabel('Time')\n",
        "plt.ylabel('Share Price')\n",
        "plt.legend()\n",
        "plt.show()"
      ],
      "metadata": {
        "id": "hvrJ_2q0EIev",
        "colab": {
          "base_uri": "https://localhost:8080/",
          "height": 285
        },
        "outputId": "8dc1e3e8-10f0-44ce-be30-7441712fc8fc"
      },
      "execution_count": null,
      "outputs": [
        {
          "output_type": "display_data",
          "data": {
            "text/plain": [
              "<Figure size 432x288 with 1 Axes>"
            ],
            "image/png": "[encoded data removed]"
          },
          "metadata": {
            "needs_background": "light"
          }
        }
      ]
    },
    {
      "cell_type": "code",
      "source": [
        "# Combine actual_prices, predicted_prices, and date into a single dataframe\n",
        "result_df = pd.DataFrame({'Date': dftest['Date'], 'Actual Prices': actual_prices, 'Predicted Prices': predicted_prices.reshape(-1)})\n",
        "result_df = result_df.set_index('Date')\n",
        "\n",
        "result_df"
      ],
      "metadata": {
        "id": "r-4xY8L74zh_",
        "colab": {
          "base_uri": "https://localhost:8080/",
          "height": 708
        },
        "outputId": "f6c595c7-fccd-4ea1-e494-096832e2bcf5"
      },
      "execution_count": null,
      "outputs": [
        {
          "output_type": "execute_result",
          "data": {
            "text/plain": [
              "            Actual Prices  Predicted Prices\n",
              "Date                                       \n",
              "2017-01-03         786.14        780.343811\n",
              "2017-01-04         786.90        784.270264\n",
              "2017-01-05         794.02        787.877258\n",
              "2017-01-06         806.15        793.285767\n",
              "2017-01-09         806.65        802.664978\n",
              "2017-01-10         804.79        807.262756\n",
              "2017-01-11         807.91        807.390503\n",
              "2017-01-12         806.36        809.490723\n",
              "2017-01-13         807.88        809.395569\n",
              "2017-01-17         804.61        810.491699\n",
              "2017-01-18         806.07        808.805664\n",
              "2017-01-19         802.17        809.306763\n",
              "2017-01-20         805.02        806.987244\n",
              "2017-01-23         819.31        808.066162\n",
              "2017-01-24         823.87        817.328552\n",
              "2017-01-25         835.67        823.527649\n",
              "2017-01-26         832.15        832.935730\n",
              "2017-01-27         823.31        832.333130\n",
              "2017-01-30         802.32        826.070862\n",
              "2017-01-31         796.79        809.790344"
            ],
            "text/html": [
              "\n",
              "  <div id=\"df-4876979e-f29d-4f4f-ae26-2ae7b039fc48\">\n",
              "    <div class=\"colab-df-container\">\n",
              "      <div>\n",
              "<style scoped>\n",
              "    .dataframe tbody tr th:only-of-type {\n",
              "        vertical-align: middle;\n",
              "    }\n",
              "\n",
              "    .dataframe tbody tr th {\n",
              "        vertical-align: top;\n",
              "    }\n",
              "\n",
              "    .dataframe thead th {\n",
              "        text-align: right;\n",
              "    }\n",
              "</style>\n",
              "<table border=\"1\" class=\"dataframe\">\n",
              "  <thead>\n",
              "    <tr style=\"text-align: right;\">\n",
              "      <th></th>\n",
              "      <th>Actual Prices</th>\n",
              "      <th>Predicted Prices</th>\n",
              "    </tr>\n",
              "    <tr>\n",
              "      <th>Date</th>\n",
              "      <th></th>\n",
              "      <th></th>\n",
              "    </tr>\n",
              "  </thead>\n",
              "  <tbody>\n",
              "    <tr>\n",
              "      <th>2017-01-03</th>\n",
              "      <td>786.14</td>\n",
              "      <td>780.343811</td>\n",
              "    </tr>\n",
              "    <tr>\n",
              "      <th>2017-01-04</th>\n",
              "      <td>786.90</td>\n",
              "      <td>784.270264</td>\n",
              "    </tr>\n",
              "    <tr>\n",
              "      <th>2017-01-05</th>\n",
              "      <td>794.02</td>\n",
              "      <td>787.877258</td>\n",
              "    </tr>\n",
              "    <tr>\n",
              "      <th>2017-01-06</th>\n",
              "      <td>806.15</td>\n",
              "      <td>793.285767</td>\n",
              "    </tr>\n",
              "    <tr>\n",
              "      <th>2017-01-09</th>\n",
              "      <td>806.65</td>\n",
              "      <td>802.664978</td>\n",
              "    </tr>\n",
              "    <tr>\n",
              "      <th>2017-01-10</th>\n",
              "      <td>804.79</td>\n",
              "      <td>807.262756</td>\n",
              "    </tr>\n",
              "    <tr>\n",
              "      <th>2017-01-11</th>\n",
              "      <td>807.91</td>\n",
              "      <td>807.390503</td>\n",
              "    </tr>\n",
              "    <tr>\n",
              "      <th>2017-01-12</th>\n",
              "      <td>806.36</td>\n",
              "      <td>809.490723</td>\n",
              "    </tr>\n",
              "    <tr>\n",
              "      <th>2017-01-13</th>\n",
              "      <td>807.88</td>\n",
              "      <td>809.395569</td>\n",
              "    </tr>\n",
              "    <tr>\n",
              "      <th>2017-01-17</th>\n",
              "      <td>804.61</td>\n",
              "      <td>810.491699</td>\n",
              "    </tr>\n",
              "    <tr>\n",
              "      <th>2017-01-18</th>\n",
              "      <td>806.07</td>\n",
              "      <td>808.805664</td>\n",
              "    </tr>\n",
              "    <tr>\n",
              "      <th>2017-01-19</th>\n",
              "      <td>802.17</td>\n",
              "      <td>809.306763</td>\n",
              "    </tr>\n",
              "    <tr>\n",
              "      <th>2017-01-20</th>\n",
              "      <td>805.02</td>\n",
              "      <td>806.987244</td>\n",
              "    </tr>\n",
              "    <tr>\n",
              "      <th>2017-01-23</th>\n",
              "      <td>819.31</td>\n",
              "      <td>808.066162</td>\n",
              "    </tr>\n",
              "    <tr>\n",
              "      <th>2017-01-24</th>\n",
              "      <td>823.87</td>\n",
              "      <td>817.328552</td>\n",
              "    </tr>\n",
              "    <tr>\n",
              "      <th>2017-01-25</th>\n",
              "      <td>835.67</td>\n",
              "      <td>823.527649</td>\n",
              "    </tr>\n",
              "    <tr>\n",
              "      <th>2017-01-26</th>\n",
              "      <td>832.15</td>\n",
              "      <td>832.935730</td>\n",
              "    </tr>\n",
              "    <tr>\n",
              "      <th>2017-01-27</th>\n",
              "      <td>823.31</td>\n",
              "      <td>832.333130</td>\n",
              "    </tr>\n",
              "    <tr>\n",
              "      <th>2017-01-30</th>\n",
              "      <td>802.32</td>\n",
              "      <td>826.070862</td>\n",
              "    </tr>\n",
              "    <tr>\n",
              "      <th>2017-01-31</th>\n",
              "      <td>796.79</td>\n",
              "      <td>809.790344</td>\n",
              "    </tr>\n",
              "  </tbody>\n",
              "</table>\n",
              "</div>\n",
              "      <button class=\"colab-df-convert\" onclick=\"convertToInteractive('df-4876979e-f29d-4f4f-ae26-2ae7b039fc48')\"\n",
              "              title=\"Convert this dataframe to an interactive table.\"\n",
              "              style=\"display:none;\">\n",
              "        \n",
              "  <svg xmlns=\"http://www.w3.org/2000/svg\" height=\"24px\"viewBox=\"0 0 24 24\"\n",
              "       width=\"24px\">\n",
              "    <path d=\"M0 0h24v24H0V0z\" fill=\"none\"/>\n",
              "    <path d=\"M18.56 5.44l.94 2.06.94-2.06 2.06-.94-2.06-.94-.94-2.06-.94 2.06-2.06.94zm-11 1L8.5 8.5l.94-2.06 2.06-.94-2.06-.94L8.5 2.5l-.94 2.06-2.06.94zm10 10l.94 2.06.94-2.06 2.06-.94-2.06-.94-.94-2.06-.94 2.06-2.06.94z\"/><path d=\"M17.41 7.96l-1.37-1.37c-.4-.4-.92-.59-1.43-.59-.52 0-1.04.2-1.43.59L10.3 9.45l-7.72 7.72c-.78.78-.78 2.05 0 2.83L4 21.41c.39.39.9.59 1.41.59.51 0 1.02-.2 1.41-.59l7.78-7.78 2.81-2.81c.8-.78.8-2.07 0-2.86zM5.41 20L4 18.59l7.72-7.72 1.47 1.35L5.41 20z\"/>\n",
              "  </svg>\n",
              "      </button>\n",
              "      \n",
              "  <style>\n",
              "    .colab-df-container {\n",
              "      display:flex;\n",
              "      flex-wrap:wrap;\n",
              "      gap: 12px;\n",
              "    }\n",
              "\n",
              "    .colab-df-convert {\n",
              "      background-color: #E8F0FE;\n",
              "      border: none;\n",
              "      border-radius: 50%;\n",
              "      cursor: pointer;\n",
              "      display: none;\n",
              "      fill: #1967D2;\n",
              "      height: 32px;\n",
              "      padding: 0 0 0 0;\n",
              "      width: 32px;\n",
              "    }\n",
              "\n",
              "    .colab-df-convert:hover {\n",
              "      background-color: #E2EBFA;\n",
              "      box-shadow: 0px 1px 2px rgba(60, 64, 67, 0.3), 0px 1px 3px 1px rgba(60, 64, 67, 0.15);\n",
              "      fill: #174EA6;\n",
              "    }\n",
              "\n",
              "    [theme=dark] .colab-df-convert {\n",
              "      background-color: #3B4455;\n",
              "      fill: #D2E3FC;\n",
              "    }\n",
              "\n",
              "    [theme=dark] .colab-df-convert:hover {\n",
              "      background-color: #434B5C;\n",
              "      box-shadow: 0px 1px 3px 1px rgba(0, 0, 0, 0.15);\n",
              "      filter: drop-shadow(0px 1px 2px rgba(0, 0, 0, 0.3));\n",
              "      fill: #FFFFFF;\n",
              "    }\n",
              "  </style>\n",
              "\n",
              "      <script>\n",
              "        const buttonEl =\n",
              "          document.querySelector('#df-4876979e-f29d-4f4f-ae26-2ae7b039fc48 button.colab-df-convert');\n",
              "        buttonEl.style.display =\n",
              "          google.colab.kernel.accessAllowed ? 'block' : 'none';\n",
              "\n",
              "        async function convertToInteractive(key) {\n",
              "          const element = document.querySelector('#df-4876979e-f29d-4f4f-ae26-2ae7b039fc48');\n",
              "          const dataTable =\n",
              "            await google.colab.kernel.invokeFunction('convertToInteractive',\n",
              "                                                     [key], {});\n",
              "          if (!dataTable) return;\n",
              "\n",
              "          const docLinkHtml = 'Like what you see? Visit the ' +\n",
              "            '<a target=\"_blank\" href=https://colab.research.google.com/notebooks/data_table.ipynb>data table notebook</a>'\n",
              "            + ' to learn more about interactive tables.';\n",
              "          element.innerHTML = '';\n",
              "          dataTable['output_type'] = 'display_data';\n",
              "          await google.colab.output.renderOutput(dataTable, element);\n",
              "          const docLink = document.createElement('div');\n",
              "          docLink.innerHTML = docLinkHtml;\n",
              "          element.appendChild(docLink);\n",
              "        }\n",
              "      </script>\n",
              "    </div>\n",
              "  </div>\n",
              "  "
            ]
          },
          "metadata": {},
          "execution_count": 31
        }
      ]
    },
    {
      "cell_type": "code",
      "source": [
        "from sklearn.metrics import mean_squared_error, mean_absolute_error, r2_score\n",
        "import numpy as np\n",
        "\n",
        "# Calculate evaluation metrics\n",
        "mse = mean_squared_error(actual_prices, predicted_prices)\n",
        "mae = mean_absolute_error(actual_prices, predicted_prices)\n",
        "rmse = np.sqrt(mse)\n",
        "r2 = r2_score(actual_prices, predicted_prices)\n",
        "mape = np.mean(np.abs((actual_prices - predicted_prices) / actual_prices)) * 100\n",
        "\n",
        "# Print evaluation metrics\n",
        "print(\"Mean Squared Error (MSE): \", mse)\n",
        "print(\"Root Mean Squared Error (RMSE): \", rmse)\n",
        "print(\"Mean Absolute Error (MAE): \", mae)\n",
        "print(\"R-squared (R2): \", r2)\n",
        "print(\"Mean Absolute Percentage Error (MAPE): \", mape)"
      ],
      "metadata": {
        "id": "s7d5atBCJ8Nv",
        "colab": {
          "base_uri": "https://localhost:8080/"
        },
        "outputId": "bb9d707d-cae5-48b9-aea0-49b0951c1b8b"
      },
      "execution_count": null,
      "outputs": [
        {
          "output_type": "stream",
          "name": "stdout",
          "text": [
            "Mean Squared Error (MSE):  75.33878471636606\n",
            "Root Mean Squared Error (RMSE):  8.679791743836143\n",
            "Mean Absolute Error (MAE):  6.663276977539056\n",
            "R-squared (R2):  0.5455526440725681\n",
            "Mean Absolute Percentage Error (MAPE):  1.8445503326363637\n"
          ]
        }
      ]
    },
    {
      "cell_type": "markdown",
      "source": [
        "The results are quite close, but they seem to be late one day. Let's try to shift them to get a better look."
      ],
      "metadata": {
        "id": "24Y9WOlsJ-75"
      }
    },
    {
      "cell_type": "code",
      "source": [
        "# Shift the predicted prices by one day\n",
        "predicted_prices_shifted = np.roll(predicted_prices, -1)\n",
        "\n",
        "plt.plot(actual_prices, color='black', label='Actual Price')\n",
        "plt.plot(predicted_prices_shifted, color='green', label='Predicted Price (Shifted)')\n",
        "plt.xlabel('Time')\n",
        "plt.ylabel('Share Price')\n",
        "plt.legend()\n",
        "plt.show()"
      ],
      "metadata": {
        "id": "Qt3Ig5eYKAYc",
        "colab": {
          "base_uri": "https://localhost:8080/",
          "height": 285
        },
        "outputId": "8a85d1e8-c894-4b11-8a3c-f2ac022b6223"
      },
      "execution_count": null,
      "outputs": [
        {
          "output_type": "display_data",
          "data": {
            "text/plain": [
              "<Figure size 432x288 with 1 Axes>"
            ],
            "image/png": "[encoded data removed]"
          },
          "metadata": {
            "needs_background": "light"
          }
        }
      ]
    },
    {
      "cell_type": "code",
      "source": [
        "# Combine actual_prices, predicted_prices_shifted, and date into a single dataframe\n",
        "result_df = pd.DataFrame({'Date': dftest['Date'], 'Actual Prices': actual_prices, 'Predicted Prices': predicted_prices_shifted.reshape(-1)})\n",
        "result_df = result_df.set_index('Date')\n",
        "\n",
        "result_df"
      ],
      "metadata": {
        "colab": {
          "base_uri": "https://localhost:8080/",
          "height": 708
        },
        "id": "QIRZ63vcmbuc",
        "outputId": "a6b1fd36-3483-4260-8bc6-c1fb3e53a916"
      },
      "execution_count": null,
      "outputs": [
        {
          "output_type": "execute_result",
          "data": {
            "text/plain": [
              "            Actual Prices  Predicted Prices\n",
              "Date                                       \n",
              "2017-01-03         786.14        784.270264\n",
              "2017-01-04         786.90        787.877258\n",
              "2017-01-05         794.02        793.285767\n",
              "2017-01-06         806.15        802.664978\n",
              "2017-01-09         806.65        807.262756\n",
              "2017-01-10         804.79        807.390503\n",
              "2017-01-11         807.91        809.490723\n",
              "2017-01-12         806.36        809.395569\n",
              "2017-01-13         807.88        810.491699\n",
              "2017-01-17         804.61        808.805664\n",
              "2017-01-18         806.07        809.306763\n",
              "2017-01-19         802.17        806.987244\n",
              "2017-01-20         805.02        808.066162\n",
              "2017-01-23         819.31        817.328552\n",
              "2017-01-24         823.87        823.527649\n",
              "2017-01-25         835.67        832.935730\n",
              "2017-01-26         832.15        832.333130\n",
              "2017-01-27         823.31        826.070862\n",
              "2017-01-30         802.32        809.790344\n",
              "2017-01-31         796.79        780.343811"
            ],
            "text/html": [
              "\n",
              "  <div id=\"df-0aafd512-00fb-4de4-be70-b88f57186799\">\n",
              "    <div class=\"colab-df-container\">\n",
              "      <div>\n",
              "<style scoped>\n",
              "    .dataframe tbody tr th:only-of-type {\n",
              "        vertical-align: middle;\n",
              "    }\n",
              "\n",
              "    .dataframe tbody tr th {\n",
              "        vertical-align: top;\n",
              "    }\n",
              "\n",
              "    .dataframe thead th {\n",
              "        text-align: right;\n",
              "    }\n",
              "</style>\n",
              "<table border=\"1\" class=\"dataframe\">\n",
              "  <thead>\n",
              "    <tr style=\"text-align: right;\">\n",
              "      <th></th>\n",
              "      <th>Actual Prices</th>\n",
              "      <th>Predicted Prices</th>\n",
              "    </tr>\n",
              "    <tr>\n",
              "      <th>Date</th>\n",
              "      <th></th>\n",
              "      <th></th>\n",
              "    </tr>\n",
              "  </thead>\n",
              "  <tbody>\n",
              "    <tr>\n",
              "      <th>2017-01-03</th>\n",
              "      <td>786.14</td>\n",
              "      <td>784.270264</td>\n",
              "    </tr>\n",
              "    <tr>\n",
              "      <th>2017-01-04</th>\n",
              "      <td>786.90</td>\n",
              "      <td>787.877258</td>\n",
              "    </tr>\n",
              "    <tr>\n",
              "      <th>2017-01-05</th>\n",
              "      <td>794.02</td>\n",
              "      <td>793.285767</td>\n",
              "    </tr>\n",
              "    <tr>\n",
              "      <th>2017-01-06</th>\n",
              "      <td>806.15</td>\n",
              "      <td>802.664978</td>\n",
              "    </tr>\n",
              "    <tr>\n",
              "      <th>2017-01-09</th>\n",
              "      <td>806.65</td>\n",
              "      <td>807.262756</td>\n",
              "    </tr>\n",
              "    <tr>\n",
              "      <th>2017-01-10</th>\n",
              "      <td>804.79</td>\n",
              "      <td>807.390503</td>\n",
              "    </tr>\n",
              "    <tr>\n",
              "      <th>2017-01-11</th>\n",
              "      <td>807.91</td>\n",
              "      <td>809.490723</td>\n",
              "    </tr>\n",
              "    <tr>\n",
              "      <th>2017-01-12</th>\n",
              "      <td>806.36</td>\n",
              "      <td>809.395569</td>\n",
              "    </tr>\n",
              "    <tr>\n",
              "      <th>2017-01-13</th>\n",
              "      <td>807.88</td>\n",
              "      <td>810.491699</td>\n",
              "    </tr>\n",
              "    <tr>\n",
              "      <th>2017-01-17</th>\n",
              "      <td>804.61</td>\n",
              "      <td>808.805664</td>\n",
              "    </tr>\n",
              "    <tr>\n",
              "      <th>2017-01-18</th>\n",
              "      <td>806.07</td>\n",
              "      <td>809.306763</td>\n",
              "    </tr>\n",
              "    <tr>\n",
              "      <th>2017-01-19</th>\n",
              "      <td>802.17</td>\n",
              "      <td>806.987244</td>\n",
              "    </tr>\n",
              "    <tr>\n",
              "      <th>2017-01-20</th>\n",
              "      <td>805.02</td>\n",
              "      <td>808.066162</td>\n",
              "    </tr>\n",
              "    <tr>\n",
              "      <th>2017-01-23</th>\n",
              "      <td>819.31</td>\n",
              "      <td>817.328552</td>\n",
              "    </tr>\n",
              "    <tr>\n",
              "      <th>2017-01-24</th>\n",
              "      <td>823.87</td>\n",
              "      <td>823.527649</td>\n",
              "    </tr>\n",
              "    <tr>\n",
              "      <th>2017-01-25</th>\n",
              "      <td>835.67</td>\n",
              "      <td>832.935730</td>\n",
              "    </tr>\n",
              "    <tr>\n",
              "      <th>2017-01-26</th>\n",
              "      <td>832.15</td>\n",
              "      <td>832.333130</td>\n",
              "    </tr>\n",
              "    <tr>\n",
              "      <th>2017-01-27</th>\n",
              "      <td>823.31</td>\n",
              "      <td>826.070862</td>\n",
              "    </tr>\n",
              "    <tr>\n",
              "      <th>2017-01-30</th>\n",
              "      <td>802.32</td>\n",
              "      <td>809.790344</td>\n",
              "    </tr>\n",
              "    <tr>\n",
              "      <th>2017-01-31</th>\n",
              "      <td>796.79</td>\n",
              "      <td>780.343811</td>\n",
              "    </tr>\n",
              "  </tbody>\n",
              "</table>\n",
              "</div>\n",
              "      <button class=\"colab-df-convert\" onclick=\"convertToInteractive('df-0aafd512-00fb-4de4-be70-b88f57186799')\"\n",
              "              title=\"Convert this dataframe to an interactive table.\"\n",
              "              style=\"display:none;\">\n",
              "        \n",
              "  <svg xmlns=\"http://www.w3.org/2000/svg\" height=\"24px\"viewBox=\"0 0 24 24\"\n",
              "       width=\"24px\">\n",
              "    <path d=\"M0 0h24v24H0V0z\" fill=\"none\"/>\n",
              "    <path d=\"M18.56 5.44l.94 2.06.94-2.06 2.06-.94-2.06-.94-.94-2.06-.94 2.06-2.06.94zm-11 1L8.5 8.5l.94-2.06 2.06-.94-2.06-.94L8.5 2.5l-.94 2.06-2.06.94zm10 10l.94 2.06.94-2.06 2.06-.94-2.06-.94-.94-2.06-.94 2.06-2.06.94z\"/><path d=\"M17.41 7.96l-1.37-1.37c-.4-.4-.92-.59-1.43-.59-.52 0-1.04.2-1.43.59L10.3 9.45l-7.72 7.72c-.78.78-.78 2.05 0 2.83L4 21.41c.39.39.9.59 1.41.59.51 0 1.02-.2 1.41-.59l7.78-7.78 2.81-2.81c.8-.78.8-2.07 0-2.86zM5.41 20L4 18.59l7.72-7.72 1.47 1.35L5.41 20z\"/>\n",
              "  </svg>\n",
              "      </button>\n",
              "      \n",
              "  <style>\n",
              "    .colab-df-container {\n",
              "      display:flex;\n",
              "      flex-wrap:wrap;\n",
              "      gap: 12px;\n",
              "    }\n",
              "\n",
              "    .colab-df-convert {\n",
              "      background-color: #E8F0FE;\n",
              "      border: none;\n",
              "      border-radius: 50%;\n",
              "      cursor: pointer;\n",
              "      display: none;\n",
              "      fill: #1967D2;\n",
              "      height: 32px;\n",
              "      padding: 0 0 0 0;\n",
              "      width: 32px;\n",
              "    }\n",
              "\n",
              "    .colab-df-convert:hover {\n",
              "      background-color: #E2EBFA;\n",
              "      box-shadow: 0px 1px 2px rgba(60, 64, 67, 0.3), 0px 1px 3px 1px rgba(60, 64, 67, 0.15);\n",
              "      fill: #174EA6;\n",
              "    }\n",
              "\n",
              "    [theme=dark] .colab-df-convert {\n",
              "      background-color: #3B4455;\n",
              "      fill: #D2E3FC;\n",
              "    }\n",
              "\n",
              "    [theme=dark] .colab-df-convert:hover {\n",
              "      background-color: #434B5C;\n",
              "      box-shadow: 0px 1px 3px 1px rgba(0, 0, 0, 0.15);\n",
              "      filter: drop-shadow(0px 1px 2px rgba(0, 0, 0, 0.3));\n",
              "      fill: #FFFFFF;\n",
              "    }\n",
              "  </style>\n",
              "\n",
              "      <script>\n",
              "        const buttonEl =\n",
              "          document.querySelector('#df-0aafd512-00fb-4de4-be70-b88f57186799 button.colab-df-convert');\n",
              "        buttonEl.style.display =\n",
              "          google.colab.kernel.accessAllowed ? 'block' : 'none';\n",
              "\n",
              "        async function convertToInteractive(key) {\n",
              "          const element = document.querySelector('#df-0aafd512-00fb-4de4-be70-b88f57186799');\n",
              "          const dataTable =\n",
              "            await google.colab.kernel.invokeFunction('convertToInteractive',\n",
              "                                                     [key], {});\n",
              "          if (!dataTable) return;\n",
              "\n",
              "          const docLinkHtml = 'Like what you see? Visit the ' +\n",
              "            '<a target=\"_blank\" href=https://colab.research.google.com/notebooks/data_table.ipynb>data table notebook</a>'\n",
              "            + ' to learn more about interactive tables.';\n",
              "          element.innerHTML = '';\n",
              "          dataTable['output_type'] = 'display_data';\n",
              "          await google.colab.output.renderOutput(dataTable, element);\n",
              "          const docLink = document.createElement('div');\n",
              "          docLink.innerHTML = docLinkHtml;\n",
              "          element.appendChild(docLink);\n",
              "        }\n",
              "      </script>\n",
              "    </div>\n",
              "  </div>\n",
              "  "
            ]
          },
          "metadata": {},
          "execution_count": 46
        }
      ]
    },
    {
      "cell_type": "code",
      "source": [
        "# Calculate evaluation metrics\n",
        "mse = mean_squared_error(actual_prices, predicted_prices_shifted)\n",
        "mae = mean_absolute_error(actual_prices, predicted_prices_shifted)\n",
        "rmse = np.sqrt(mse)\n",
        "r2 = r2_score(actual_prices, predicted_prices_shifted)\n",
        "mape = np.mean(np.abs((actual_prices - predicted_prices_shifted) / actual_prices)) * 100\n",
        "\n",
        "# Print evaluation metrics\n",
        "print(\"Mean Squared Error (MSE): \", mse)\n",
        "print(\"Root Mean Squared Error (RMSE): \", rmse)\n",
        "print(\"Mean Absolute Error (MAE): \", mae)\n",
        "print(\"R-squared (R2): \", r2)\n",
        "print(\"Mean Absolute Percentage Error (MAPE): \", mape)"
      ],
      "metadata": {
        "id": "nIDrg4JBKKgX",
        "colab": {
          "base_uri": "https://localhost:8080/"
        },
        "outputId": "a6cfe096-ecd3-45d1-c220-49263d553539"
      },
      "execution_count": null,
      "outputs": [
        {
          "output_type": "stream",
          "name": "stdout",
          "text": [
            "Mean Squared Error (MSE):  22.44158281206926\n",
            "Root Mean Squared Error (RMSE):  4.737254775929753\n",
            "Mean Absolute Error (MAE):  3.2360963134765597\n",
            "R-squared (R2):  0.8646312386088181\n",
            "Mean Absolute Percentage Error (MAPE):  1.8445503326363637\n"
          ]
        }
      ]
    },
    {
      "cell_type": "markdown",
      "source": [
        "# **RNN**"
      ],
      "metadata": {
        "id": "N6nK_7QkO786"
      }
    },
    {
      "cell_type": "markdown",
      "source": [
        "## Importing Libraries"
      ],
      "metadata": {
        "id": "0ko-xj7Ga1T8"
      }
    },
    {
      "cell_type": "code",
      "source": [
        "# Library RNN\n",
        "from keras.models import Sequential\n",
        "from keras.layers import Dense\n",
        "from keras.layers import SimpleRNN\n",
        "from keras.layers import Dropout"
      ],
      "metadata": {
        "id": "HCpIlbC6n7gO"
      },
      "execution_count": null,
      "outputs": []
    },
    {
      "cell_type": "markdown",
      "source": [
        "## Building Model"
      ],
      "metadata": {
        "id": "o5xYt6Zga4M7"
      }
    },
    {
      "cell_type": "code",
      "source": [
        "modelr = Sequential()\n",
        "#RNN Layer 1\n",
        "modelr.add(SimpleRNN(units = 50, activation = \"tanh\", return_sequences = True, input_shape = (x_train.shape[1],1)))\n",
        "modelr.add(Dropout(0.2))\n",
        "#RNN Layer 2\n",
        "modelr.add(SimpleRNN(units = 50, activation = \"tanh\", return_sequences = True))\n",
        "modelr.add(Dropout(0.2))\n",
        "#RNN Layer 3\n",
        "modelr.add(SimpleRNN(units = 50, activation = \"tanh\", return_sequences = True))\n",
        "modelr.add(Dropout(0.2))\n",
        "#RNN Layer 4\n",
        "modelr.add(SimpleRNN(units = 50))\n",
        "modelr.add(Dropout(0.2))\n",
        "#RNN Output\n",
        "modelr.add(Dense(units=1))"
      ],
      "metadata": {
        "id": "lMFSoiIiPC3p"
      },
      "execution_count": null,
      "outputs": []
    },
    {
      "cell_type": "markdown",
      "source": [
        "## Training RNN Model"
      ],
      "metadata": {
        "id": "H7nU673NbKup"
      }
    },
    {
      "cell_type": "code",
      "source": [
        "from keras.callbacks import EarlyStopping\n",
        "early_stopping = EarlyStopping(monitor=\"val_loss\",\n",
        "                               mode = 'auto',\n",
        "                               patience=15)\n",
        "\n",
        "# Compiling\n",
        "modelr.compile(optimizer='adam', loss='mean_squared_error')\n",
        "\n",
        "# RNN Fitting\n",
        "history = modelr.fit(x_train, y_train, epochs = 50, batch_size = 32, validation_data=(x_val, y_val), callbacks=[early_stopping])"
      ],
      "metadata": {
        "colab": {
          "base_uri": "https://localhost:8080/"
        },
        "id": "hiP17DYKbQ-F",
        "outputId": "98da8872-f145-42ec-c472-4880c8d8db1a"
      },
      "execution_count": null,
      "outputs": [
        {
          "output_type": "stream",
          "name": "stdout",
          "text": [
            "Epoch 1/50\n",
            "28/28 [==============================] - 7s 93ms/step - loss: 0.4189 - val_loss: 0.0183\n",
            "Epoch 2/50\n",
            "28/28 [==============================] - 2s 69ms/step - loss: 0.2646 - val_loss: 0.0140\n",
            "Epoch 3/50\n",
            "28/28 [==============================] - 2s 87ms/step - loss: 0.2065 - val_loss: 0.0129\n",
            "Epoch 4/50\n",
            "28/28 [==============================] - 4s 128ms/step - loss: 0.1612 - val_loss: 0.0173\n",
            "Epoch 5/50\n",
            "28/28 [==============================] - 2s 69ms/step - loss: 0.1586 - val_loss: 0.0118\n",
            "Epoch 6/50\n",
            "28/28 [==============================] - 2s 69ms/step - loss: 0.1147 - val_loss: 0.0143\n",
            "Epoch 7/50\n",
            "28/28 [==============================] - 2s 69ms/step - loss: 0.1015 - val_loss: 0.0430\n",
            "Epoch 8/50\n",
            "28/28 [==============================] - 2s 70ms/step - loss: 0.0769 - val_loss: 0.0118\n",
            "Epoch 9/50\n",
            "28/28 [==============================] - 2s 69ms/step - loss: 0.0684 - val_loss: 0.0090\n",
            "Epoch 10/50\n",
            "28/28 [==============================] - 3s 118ms/step - loss: 0.0576 - val_loss: 0.0323\n",
            "Epoch 11/50\n",
            "28/28 [==============================] - 3s 95ms/step - loss: 0.0510 - val_loss: 0.0094\n",
            "Epoch 12/50\n",
            "28/28 [==============================] - 2s 72ms/step - loss: 0.0473 - val_loss: 0.0216\n",
            "Epoch 13/50\n",
            "28/28 [==============================] - 2s 70ms/step - loss: 0.0403 - val_loss: 0.0086\n",
            "Epoch 14/50\n",
            "28/28 [==============================] - 2s 70ms/step - loss: 0.0324 - val_loss: 0.0112\n",
            "Epoch 15/50\n",
            "28/28 [==============================] - 2s 71ms/step - loss: 0.0285 - val_loss: 0.0095\n",
            "Epoch 16/50\n",
            "28/28 [==============================] - 3s 98ms/step - loss: 0.0284 - val_loss: 0.0096\n",
            "Epoch 17/50\n",
            "28/28 [==============================] - 3s 116ms/step - loss: 0.0241 - val_loss: 0.0088\n",
            "Epoch 18/50\n",
            "28/28 [==============================] - 2s 70ms/step - loss: 0.0230 - val_loss: 0.0102\n",
            "Epoch 19/50\n",
            "28/28 [==============================] - 2s 70ms/step - loss: 0.0202 - val_loss: 0.0062\n",
            "Epoch 20/50\n",
            "28/28 [==============================] - 2s 69ms/step - loss: 0.0197 - val_loss: 0.0066\n",
            "Epoch 21/50\n",
            "28/28 [==============================] - 2s 70ms/step - loss: 0.0170 - val_loss: 0.0155\n",
            "Epoch 22/50\n",
            "28/28 [==============================] - 2s 69ms/step - loss: 0.0166 - val_loss: 0.0099\n",
            "Epoch 23/50\n",
            "28/28 [==============================] - 3s 121ms/step - loss: 0.0158 - val_loss: 0.0069\n",
            "Epoch 24/50\n",
            "28/28 [==============================] - 3s 89ms/step - loss: 0.0146 - val_loss: 0.0068\n",
            "Epoch 25/50\n",
            "28/28 [==============================] - 2s 69ms/step - loss: 0.0134 - val_loss: 0.0060\n",
            "Epoch 26/50\n",
            "28/28 [==============================] - 2s 70ms/step - loss: 0.0131 - val_loss: 0.0059\n",
            "Epoch 27/50\n",
            "28/28 [==============================] - 2s 69ms/step - loss: 0.0131 - val_loss: 0.0064\n",
            "Epoch 28/50\n",
            "28/28 [==============================] - 2s 69ms/step - loss: 0.0119 - val_loss: 0.0065\n",
            "Epoch 29/50\n",
            "28/28 [==============================] - 3s 91ms/step - loss: 0.0114 - val_loss: 0.0061\n",
            "Epoch 30/50\n",
            "28/28 [==============================] - 3s 119ms/step - loss: 0.0111 - val_loss: 0.0068\n",
            "Epoch 31/50\n",
            "28/28 [==============================] - 2s 69ms/step - loss: 0.0117 - val_loss: 0.0052\n",
            "Epoch 32/50\n",
            "28/28 [==============================] - 2s 70ms/step - loss: 0.0095 - val_loss: 0.0070\n",
            "Epoch 33/50\n",
            "28/28 [==============================] - 2s 69ms/step - loss: 0.0097 - val_loss: 0.0056\n",
            "Epoch 34/50\n",
            "28/28 [==============================] - 2s 69ms/step - loss: 0.0093 - val_loss: 0.0051\n",
            "Epoch 35/50\n",
            "28/28 [==============================] - 2s 70ms/step - loss: 0.0087 - val_loss: 0.0047\n",
            "Epoch 36/50\n",
            "28/28 [==============================] - 3s 122ms/step - loss: 0.0078 - val_loss: 0.0050\n",
            "Epoch 37/50\n",
            "28/28 [==============================] - 3s 91ms/step - loss: 0.0083 - val_loss: 0.0062\n",
            "Epoch 38/50\n",
            "28/28 [==============================] - 2s 71ms/step - loss: 0.0096 - val_loss: 0.0063\n",
            "Epoch 39/50\n",
            "28/28 [==============================] - 2s 69ms/step - loss: 0.0078 - val_loss: 0.0050\n",
            "Epoch 40/50\n",
            "28/28 [==============================] - 2s 71ms/step - loss: 0.0077 - val_loss: 0.0047\n",
            "Epoch 41/50\n",
            "28/28 [==============================] - 2s 70ms/step - loss: 0.0086 - val_loss: 0.0061\n",
            "Epoch 42/50\n",
            "28/28 [==============================] - 3s 104ms/step - loss: 0.0065 - val_loss: 0.0048\n",
            "Epoch 43/50\n",
            "28/28 [==============================] - 3s 110ms/step - loss: 0.0070 - val_loss: 0.0064\n",
            "Epoch 44/50\n",
            "28/28 [==============================] - 2s 70ms/step - loss: 0.0071 - val_loss: 0.0050\n",
            "Epoch 45/50\n",
            "28/28 [==============================] - 2s 70ms/step - loss: 0.0076 - val_loss: 0.0048\n",
            "Epoch 46/50\n",
            "28/28 [==============================] - 2s 70ms/step - loss: 0.0058 - val_loss: 0.0047\n",
            "Epoch 47/50\n",
            "28/28 [==============================] - 2s 69ms/step - loss: 0.0072 - val_loss: 0.0050\n",
            "Epoch 48/50\n",
            "28/28 [==============================] - 2s 81ms/step - loss: 0.0055 - val_loss: 0.0054\n",
            "Epoch 49/50\n",
            "28/28 [==============================] - 4s 128ms/step - loss: 0.0055 - val_loss: 0.0052\n",
            "Epoch 50/50\n",
            "28/28 [==============================] - 2s 73ms/step - loss: 0.0052 - val_loss: 0.0047\n"
          ]
        }
      ]
    },
    {
      "cell_type": "code",
      "source": [
        "plt.plot(history.history['loss'])\n",
        "plt.plot(history.history['val_loss'])\n",
        "plt.title('Model Loss', size=25, pad=20)\n",
        "plt.ylabel('Loss', size=15)\n",
        "plt.xlabel('Epoch', size=15)\n",
        "plt.legend(['training', 'validation'], loc='upper left')"
      ],
      "metadata": {
        "colab": {
          "base_uri": "https://localhost:8080/",
          "height": 343
        },
        "id": "wx_hb41VqIH9",
        "outputId": "5ae13087-80cb-4d9e-9486-d5db1183ae01"
      },
      "execution_count": null,
      "outputs": [
        {
          "output_type": "execute_result",
          "data": {
            "text/plain": [
              "<matplotlib.legend.Legend at 0x7efd82d894f0>"
            ]
          },
          "metadata": {},
          "execution_count": 38
        },
        {
          "output_type": "display_data",
          "data": {
            "text/plain": [
              "<Figure size 432x288 with 1 Axes>"
            ],
            "image/png": "[encoded data removed]"
          },
          "metadata": {
            "needs_background": "light"
          }
        }
      ]
    },
    {
      "cell_type": "markdown",
      "source": [
        "## Testing RNN"
      ],
      "metadata": {
        "id": "Gd2LbGAMrmcl"
      }
    },
    {
      "cell_type": "code",
      "source": [
        "predicted_pricesRNN = modelr.predict(x_test)\n",
        "predicted_pricesRNN = scaler_test.inverse_transform(predicted_pricesRNN)"
      ],
      "metadata": {
        "colab": {
          "base_uri": "https://localhost:8080/"
        },
        "id": "pv0_U068rl4E",
        "outputId": "9a5ffeed-3d93-4256-efe2-b2c362b989a5"
      },
      "execution_count": null,
      "outputs": [
        {
          "output_type": "stream",
          "name": "stdout",
          "text": [
            "1/1 [==============================] - 0s 497ms/step\n"
          ]
        }
      ]
    },
    {
      "cell_type": "code",
      "source": [
        "plt.plot(actual_prices, color='black', label='Actual Price')\n",
        "plt.plot(predicted_pricesRNN, color='green', label='Predicted Price')\n",
        "plt.xlabel('Time')\n",
        "plt.ylabel('Share Price')\n",
        "plt.legend()\n",
        "plt.show()"
      ],
      "metadata": {
        "colab": {
          "base_uri": "https://localhost:8080/",
          "height": 285
        },
        "id": "WVE9hQ3sruja",
        "outputId": "278f2e18-c11b-4d1e-ca69-8036712df31d"
      },
      "execution_count": null,
      "outputs": [
        {
          "output_type": "display_data",
          "data": {
            "text/plain": [
              "<Figure size 432x288 with 1 Axes>"
            ],
            "image/png": "[encoded data removed]"
          },
          "metadata": {
            "needs_background": "light"
          }
        }
      ]
    },
    {
      "cell_type": "code",
      "source": [
        "# Combine actual_prices, predicted_prices, and date into a single dataframe\n",
        "result_df = pd.DataFrame({'Date': dftest['Date'], 'Actual Prices': actual_prices, 'Predicted Prices': predicted_pricesRNN.reshape(-1)})\n",
        "result_df = result_df.set_index('Date')\n",
        "\n",
        "result_df"
      ],
      "metadata": {
        "colab": {
          "base_uri": "https://localhost:8080/",
          "height": 708
        },
        "id": "K29svbRjsAE3",
        "outputId": "9f57eaa3-c4c3-4fd0-fa82-dcc46364108f"
      },
      "execution_count": null,
      "outputs": [
        {
          "output_type": "execute_result",
          "data": {
            "text/plain": [
              "            Actual Prices  Predicted Prices\n",
              "Date                                       \n",
              "2017-01-03         786.14        778.192566\n",
              "2017-01-04         786.90        778.627686\n",
              "2017-01-05         794.02        781.973694\n",
              "2017-01-06         806.15        787.315369\n",
              "2017-01-09         806.65        796.008301\n",
              "2017-01-10         804.79        801.141052\n",
              "2017-01-11         807.91        804.433594\n",
              "2017-01-12         806.36        806.877258\n",
              "2017-01-13         807.88        807.358215\n",
              "2017-01-17         804.61        809.525269\n",
              "2017-01-18         806.07        807.942871\n",
              "2017-01-19         802.17        808.387268\n",
              "2017-01-20         805.02        805.057251\n",
              "2017-01-23         819.31        804.814819\n",
              "2017-01-24         823.87        808.866943\n",
              "2017-01-25         835.67        815.051086\n",
              "2017-01-26         832.15        823.394531\n",
              "2017-01-27         823.31        825.487976\n",
              "2017-01-30         802.32        822.506165\n",
              "2017-01-31         796.79        813.143982"
            ],
            "text/html": [
              "\n",
              "  <div id=\"df-885cafd4-7002-4c4e-9c25-7c66bf489454\">\n",
              "    <div class=\"colab-df-container\">\n",
              "      <div>\n",
              "<style scoped>\n",
              "    .dataframe tbody tr th:only-of-type {\n",
              "        vertical-align: middle;\n",
              "    }\n",
              "\n",
              "    .dataframe tbody tr th {\n",
              "        vertical-align: top;\n",
              "    }\n",
              "\n",
              "    .dataframe thead th {\n",
              "        text-align: right;\n",
              "    }\n",
              "</style>\n",
              "<table border=\"1\" class=\"dataframe\">\n",
              "  <thead>\n",
              "    <tr style=\"text-align: right;\">\n",
              "      <th></th>\n",
              "      <th>Actual Prices</th>\n",
              "      <th>Predicted Prices</th>\n",
              "    </tr>\n",
              "    <tr>\n",
              "      <th>Date</th>\n",
              "      <th></th>\n",
              "      <th></th>\n",
              "    </tr>\n",
              "  </thead>\n",
              "  <tbody>\n",
              "    <tr>\n",
              "      <th>2017-01-03</th>\n",
              "      <td>786.14</td>\n",
              "      <td>778.192566</td>\n",
              "    </tr>\n",
              "    <tr>\n",
              "      <th>2017-01-04</th>\n",
              "      <td>786.90</td>\n",
              "      <td>778.627686</td>\n",
              "    </tr>\n",
              "    <tr>\n",
              "      <th>2017-01-05</th>\n",
              "      <td>794.02</td>\n",
              "      <td>781.973694</td>\n",
              "    </tr>\n",
              "    <tr>\n",
              "      <th>2017-01-06</th>\n",
              "      <td>806.15</td>\n",
              "      <td>787.315369</td>\n",
              "    </tr>\n",
              "    <tr>\n",
              "      <th>2017-01-09</th>\n",
              "      <td>806.65</td>\n",
              "      <td>796.008301</td>\n",
              "    </tr>\n",
              "    <tr>\n",
              "      <th>2017-01-10</th>\n",
              "      <td>804.79</td>\n",
              "      <td>801.141052</td>\n",
              "    </tr>\n",
              "    <tr>\n",
              "      <th>2017-01-11</th>\n",
              "      <td>807.91</td>\n",
              "      <td>804.433594</td>\n",
              "    </tr>\n",
              "    <tr>\n",
              "      <th>2017-01-12</th>\n",
              "      <td>806.36</td>\n",
              "      <td>806.877258</td>\n",
              "    </tr>\n",
              "    <tr>\n",
              "      <th>2017-01-13</th>\n",
              "      <td>807.88</td>\n",
              "      <td>807.358215</td>\n",
              "    </tr>\n",
              "    <tr>\n",
              "      <th>2017-01-17</th>\n",
              "      <td>804.61</td>\n",
              "      <td>809.525269</td>\n",
              "    </tr>\n",
              "    <tr>\n",
              "      <th>2017-01-18</th>\n",
              "      <td>806.07</td>\n",
              "      <td>807.942871</td>\n",
              "    </tr>\n",
              "    <tr>\n",
              "      <th>2017-01-19</th>\n",
              "      <td>802.17</td>\n",
              "      <td>808.387268</td>\n",
              "    </tr>\n",
              "    <tr>\n",
              "      <th>2017-01-20</th>\n",
              "      <td>805.02</td>\n",
              "      <td>805.057251</td>\n",
              "    </tr>\n",
              "    <tr>\n",
              "      <th>2017-01-23</th>\n",
              "      <td>819.31</td>\n",
              "      <td>804.814819</td>\n",
              "    </tr>\n",
              "    <tr>\n",
              "      <th>2017-01-24</th>\n",
              "      <td>823.87</td>\n",
              "      <td>808.866943</td>\n",
              "    </tr>\n",
              "    <tr>\n",
              "      <th>2017-01-25</th>\n",
              "      <td>835.67</td>\n",
              "      <td>815.051086</td>\n",
              "    </tr>\n",
              "    <tr>\n",
              "      <th>2017-01-26</th>\n",
              "      <td>832.15</td>\n",
              "      <td>823.394531</td>\n",
              "    </tr>\n",
              "    <tr>\n",
              "      <th>2017-01-27</th>\n",
              "      <td>823.31</td>\n",
              "      <td>825.487976</td>\n",
              "    </tr>\n",
              "    <tr>\n",
              "      <th>2017-01-30</th>\n",
              "      <td>802.32</td>\n",
              "      <td>822.506165</td>\n",
              "    </tr>\n",
              "    <tr>\n",
              "      <th>2017-01-31</th>\n",
              "      <td>796.79</td>\n",
              "      <td>813.143982</td>\n",
              "    </tr>\n",
              "  </tbody>\n",
              "</table>\n",
              "</div>\n",
              "      <button class=\"colab-df-convert\" onclick=\"convertToInteractive('df-885cafd4-7002-4c4e-9c25-7c66bf489454')\"\n",
              "              title=\"Convert this dataframe to an interactive table.\"\n",
              "              style=\"display:none;\">\n",
              "        \n",
              "  <svg xmlns=\"http://www.w3.org/2000/svg\" height=\"24px\"viewBox=\"0 0 24 24\"\n",
              "       width=\"24px\">\n",
              "    <path d=\"M0 0h24v24H0V0z\" fill=\"none\"/>\n",
              "    <path d=\"M18.56 5.44l.94 2.06.94-2.06 2.06-.94-2.06-.94-.94-2.06-.94 2.06-2.06.94zm-11 1L8.5 8.5l.94-2.06 2.06-.94-2.06-.94L8.5 2.5l-.94 2.06-2.06.94zm10 10l.94 2.06.94-2.06 2.06-.94-2.06-.94-.94-2.06-.94 2.06-2.06.94z\"/><path d=\"M17.41 7.96l-1.37-1.37c-.4-.4-.92-.59-1.43-.59-.52 0-1.04.2-1.43.59L10.3 9.45l-7.72 7.72c-.78.78-.78 2.05 0 2.83L4 21.41c.39.39.9.59 1.41.59.51 0 1.02-.2 1.41-.59l7.78-7.78 2.81-2.81c.8-.78.8-2.07 0-2.86zM5.41 20L4 18.59l7.72-7.72 1.47 1.35L5.41 20z\"/>\n",
              "  </svg>\n",
              "      </button>\n",
              "      \n",
              "  <style>\n",
              "    .colab-df-container {\n",
              "      display:flex;\n",
              "      flex-wrap:wrap;\n",
              "      gap: 12px;\n",
              "    }\n",
              "\n",
              "    .colab-df-convert {\n",
              "      background-color: #E8F0FE;\n",
              "      border: none;\n",
              "      border-radius: 50%;\n",
              "      cursor: pointer;\n",
              "      display: none;\n",
              "      fill: #1967D2;\n",
              "      height: 32px;\n",
              "      padding: 0 0 0 0;\n",
              "      width: 32px;\n",
              "    }\n",
              "\n",
              "    .colab-df-convert:hover {\n",
              "      background-color: #E2EBFA;\n",
              "      box-shadow: 0px 1px 2px rgba(60, 64, 67, 0.3), 0px 1px 3px 1px rgba(60, 64, 67, 0.15);\n",
              "      fill: #174EA6;\n",
              "    }\n",
              "\n",
              "    [theme=dark] .colab-df-convert {\n",
              "      background-color: #3B4455;\n",
              "      fill: #D2E3FC;\n",
              "    }\n",
              "\n",
              "    [theme=dark] .colab-df-convert:hover {\n",
              "      background-color: #434B5C;\n",
              "      box-shadow: 0px 1px 3px 1px rgba(0, 0, 0, 0.15);\n",
              "      filter: drop-shadow(0px 1px 2px rgba(0, 0, 0, 0.3));\n",
              "      fill: #FFFFFF;\n",
              "    }\n",
              "  </style>\n",
              "\n",
              "      <script>\n",
              "        const buttonEl =\n",
              "          document.querySelector('#df-885cafd4-7002-4c4e-9c25-7c66bf489454 button.colab-df-convert');\n",
              "        buttonEl.style.display =\n",
              "          google.colab.kernel.accessAllowed ? 'block' : 'none';\n",
              "\n",
              "        async function convertToInteractive(key) {\n",
              "          const element = document.querySelector('#df-885cafd4-7002-4c4e-9c25-7c66bf489454');\n",
              "          const dataTable =\n",
              "            await google.colab.kernel.invokeFunction('convertToInteractive',\n",
              "                                                     [key], {});\n",
              "          if (!dataTable) return;\n",
              "\n",
              "          const docLinkHtml = 'Like what you see? Visit the ' +\n",
              "            '<a target=\"_blank\" href=https://colab.research.google.com/notebooks/data_table.ipynb>data table notebook</a>'\n",
              "            + ' to learn more about interactive tables.';\n",
              "          element.innerHTML = '';\n",
              "          dataTable['output_type'] = 'display_data';\n",
              "          await google.colab.output.renderOutput(dataTable, element);\n",
              "          const docLink = document.createElement('div');\n",
              "          docLink.innerHTML = docLinkHtml;\n",
              "          element.appendChild(docLink);\n",
              "        }\n",
              "      </script>\n",
              "    </div>\n",
              "  </div>\n",
              "  "
            ]
          },
          "metadata": {},
          "execution_count": 41
        }
      ]
    },
    {
      "cell_type": "code",
      "source": [
        "from sklearn.metrics import mean_squared_error, mean_absolute_error, r2_score\n",
        "import numpy as np\n",
        "\n",
        "# Calculate evaluation metrics\n",
        "mse = mean_squared_error(actual_prices, predicted_pricesRNN)\n",
        "mae = mean_absolute_error(actual_prices, predicted_pricesRNN)\n",
        "rmse = np.sqrt(mse)\n",
        "r2 = r2_score(actual_prices, predicted_pricesRNN)\n",
        "mape = np.mean(np.abs((actual_prices - predicted_pricesRNN) / actual_prices)) * 100\n",
        "\n",
        "# Print evaluation metrics\n",
        "print(\"Mean Squared Error (MSE): \", mse)\n",
        "print(\"Root Mean Squared Error (RMSE): \", rmse)\n",
        "print(\"Mean Absolute Error (MAE): \", mae)\n",
        "print(\"R-squared (R2): \", r2)\n",
        "print(\"Mean Absolute Percentage Error (MAPE): \", mape)"
      ],
      "metadata": {
        "colab": {
          "base_uri": "https://localhost:8080/"
        },
        "id": "N9HCnrtFtDgV",
        "outputId": "99b6f68e-86d6-4ac5-8861-86665bdccb0e"
      },
      "execution_count": null,
      "outputs": [
        {
          "output_type": "stream",
          "name": "stdout",
          "text": [
            "Mean Squared Error (MSE):  122.68180943664727\n",
            "Root Mean Squared Error (RMSE):  11.0761820785254\n",
            "Mean Absolute Error (MAE):  8.827009155273425\n",
            "R-squared (R2):  0.2599771269370349\n",
            "Mean Absolute Percentage Error (MAPE):  1.8211135439198702\n"
          ]
        }
      ]
    },
    {
      "cell_type": "code",
      "source": [
        "# Shift the predicted prices by one day\n",
        "predicted_prices_shiftedRNN = np.roll(predicted_pricesRNN, -1)\n",
        "\n",
        "plt.plot(actual_prices, color='black', label='Actual Price')\n",
        "plt.plot(predicted_prices_shiftedRNN, color='green', label='Predicted Price (Shifted)')\n",
        "plt.xlabel('Time')\n",
        "plt.ylabel('Share Price')\n",
        "plt.legend()\n",
        "plt.show()"
      ],
      "metadata": {
        "colab": {
          "base_uri": "https://localhost:8080/",
          "height": 285
        },
        "id": "bNJfVc2QtUBt",
        "outputId": "45ede0c0-b6ec-43c9-fa5d-959be171b2c4"
      },
      "execution_count": null,
      "outputs": [
        {
          "output_type": "display_data",
          "data": {
            "text/plain": [
              "<Figure size 432x288 with 1 Axes>"
            ],
            "image/png": "[encoded data removed]"
          },
          "metadata": {
            "needs_background": "light"
          }
        }
      ]
    },
    {
      "cell_type": "code",
      "source": [
        "# Combine actual_prices, predicted_prices_shiftedRNN, and date into a single dataframe\n",
        "result_df = pd.DataFrame({'Date': dftest['Date'], 'Actual Prices': actual_prices, 'Predicted Prices': predicted_prices_shiftedRNN.reshape(-1)})\n",
        "result_df = result_df.set_index('Date')\n",
        "\n",
        "result_df"
      ],
      "metadata": {
        "colab": {
          "base_uri": "https://localhost:8080/",
          "height": 708
        },
        "id": "KbXSHJOqmz84",
        "outputId": "2eaf679f-517a-4f2b-e8fb-584df4535aac"
      },
      "execution_count": null,
      "outputs": [
        {
          "output_type": "execute_result",
          "data": {
            "text/plain": [
              "            Actual Prices  Predicted Prices\n",
              "Date                                       \n",
              "2017-01-03         786.14        778.627686\n",
              "2017-01-04         786.90        781.973694\n",
              "2017-01-05         794.02        787.315369\n",
              "2017-01-06         806.15        796.008301\n",
              "2017-01-09         806.65        801.141052\n",
              "2017-01-10         804.79        804.433594\n",
              "2017-01-11         807.91        806.877258\n",
              "2017-01-12         806.36        807.358215\n",
              "2017-01-13         807.88        809.525269\n",
              "2017-01-17         804.61        807.942871\n",
              "2017-01-18         806.07        808.387268\n",
              "2017-01-19         802.17        805.057251\n",
              "2017-01-20         805.02        804.814819\n",
              "2017-01-23         819.31        808.866943\n",
              "2017-01-24         823.87        815.051086\n",
              "2017-01-25         835.67        823.394531\n",
              "2017-01-26         832.15        825.487976\n",
              "2017-01-27         823.31        822.506165\n",
              "2017-01-30         802.32        813.143982\n",
              "2017-01-31         796.79        778.192566"
            ],
            "text/html": [
              "\n",
              "  <div id=\"df-42db2668-a174-4fa9-96dc-75b1f9677333\">\n",
              "    <div class=\"colab-df-container\">\n",
              "      <div>\n",
              "<style scoped>\n",
              "    .dataframe tbody tr th:only-of-type {\n",
              "        vertical-align: middle;\n",
              "    }\n",
              "\n",
              "    .dataframe tbody tr th {\n",
              "        vertical-align: top;\n",
              "    }\n",
              "\n",
              "    .dataframe thead th {\n",
              "        text-align: right;\n",
              "    }\n",
              "</style>\n",
              "<table border=\"1\" class=\"dataframe\">\n",
              "  <thead>\n",
              "    <tr style=\"text-align: right;\">\n",
              "      <th></th>\n",
              "      <th>Actual Prices</th>\n",
              "      <th>Predicted Prices</th>\n",
              "    </tr>\n",
              "    <tr>\n",
              "      <th>Date</th>\n",
              "      <th></th>\n",
              "      <th></th>\n",
              "    </tr>\n",
              "  </thead>\n",
              "  <tbody>\n",
              "    <tr>\n",
              "      <th>2017-01-03</th>\n",
              "      <td>786.14</td>\n",
              "      <td>778.627686</td>\n",
              "    </tr>\n",
              "    <tr>\n",
              "      <th>2017-01-04</th>\n",
              "      <td>786.90</td>\n",
              "      <td>781.973694</td>\n",
              "    </tr>\n",
              "    <tr>\n",
              "      <th>2017-01-05</th>\n",
              "      <td>794.02</td>\n",
              "      <td>787.315369</td>\n",
              "    </tr>\n",
              "    <tr>\n",
              "      <th>2017-01-06</th>\n",
              "      <td>806.15</td>\n",
              "      <td>796.008301</td>\n",
              "    </tr>\n",
              "    <tr>\n",
              "      <th>2017-01-09</th>\n",
              "      <td>806.65</td>\n",
              "      <td>801.141052</td>\n",
              "    </tr>\n",
              "    <tr>\n",
              "      <th>2017-01-10</th>\n",
              "      <td>804.79</td>\n",
              "      <td>804.433594</td>\n",
              "    </tr>\n",
              "    <tr>\n",
              "      <th>2017-01-11</th>\n",
              "      <td>807.91</td>\n",
              "      <td>806.877258</td>\n",
              "    </tr>\n",
              "    <tr>\n",
              "      <th>2017-01-12</th>\n",
              "      <td>806.36</td>\n",
              "      <td>807.358215</td>\n",
              "    </tr>\n",
              "    <tr>\n",
              "      <th>2017-01-13</th>\n",
              "      <td>807.88</td>\n",
              "      <td>809.525269</td>\n",
              "    </tr>\n",
              "    <tr>\n",
              "      <th>2017-01-17</th>\n",
              "      <td>804.61</td>\n",
              "      <td>807.942871</td>\n",
              "    </tr>\n",
              "    <tr>\n",
              "      <th>2017-01-18</th>\n",
              "      <td>806.07</td>\n",
              "      <td>808.387268</td>\n",
              "    </tr>\n",
              "    <tr>\n",
              "      <th>2017-01-19</th>\n",
              "      <td>802.17</td>\n",
              "      <td>805.057251</td>\n",
              "    </tr>\n",
              "    <tr>\n",
              "      <th>2017-01-20</th>\n",
              "      <td>805.02</td>\n",
              "      <td>804.814819</td>\n",
              "    </tr>\n",
              "    <tr>\n",
              "      <th>2017-01-23</th>\n",
              "      <td>819.31</td>\n",
              "      <td>808.866943</td>\n",
              "    </tr>\n",
              "    <tr>\n",
              "      <th>2017-01-24</th>\n",
              "      <td>823.87</td>\n",
              "      <td>815.051086</td>\n",
              "    </tr>\n",
              "    <tr>\n",
              "      <th>2017-01-25</th>\n",
              "      <td>835.67</td>\n",
              "      <td>823.394531</td>\n",
              "    </tr>\n",
              "    <tr>\n",
              "      <th>2017-01-26</th>\n",
              "      <td>832.15</td>\n",
              "      <td>825.487976</td>\n",
              "    </tr>\n",
              "    <tr>\n",
              "      <th>2017-01-27</th>\n",
              "      <td>823.31</td>\n",
              "      <td>822.506165</td>\n",
              "    </tr>\n",
              "    <tr>\n",
              "      <th>2017-01-30</th>\n",
              "      <td>802.32</td>\n",
              "      <td>813.143982</td>\n",
              "    </tr>\n",
              "    <tr>\n",
              "      <th>2017-01-31</th>\n",
              "      <td>796.79</td>\n",
              "      <td>778.192566</td>\n",
              "    </tr>\n",
              "  </tbody>\n",
              "</table>\n",
              "</div>\n",
              "      <button class=\"colab-df-convert\" onclick=\"convertToInteractive('df-42db2668-a174-4fa9-96dc-75b1f9677333')\"\n",
              "              title=\"Convert this dataframe to an interactive table.\"\n",
              "              style=\"display:none;\">\n",
              "        \n",
              "  <svg xmlns=\"http://www.w3.org/2000/svg\" height=\"24px\"viewBox=\"0 0 24 24\"\n",
              "       width=\"24px\">\n",
              "    <path d=\"M0 0h24v24H0V0z\" fill=\"none\"/>\n",
              "    <path d=\"M18.56 5.44l.94 2.06.94-2.06 2.06-.94-2.06-.94-.94-2.06-.94 2.06-2.06.94zm-11 1L8.5 8.5l.94-2.06 2.06-.94-2.06-.94L8.5 2.5l-.94 2.06-2.06.94zm10 10l.94 2.06.94-2.06 2.06-.94-2.06-.94-.94-2.06-.94 2.06-2.06.94z\"/><path d=\"M17.41 7.96l-1.37-1.37c-.4-.4-.92-.59-1.43-.59-.52 0-1.04.2-1.43.59L10.3 9.45l-7.72 7.72c-.78.78-.78 2.05 0 2.83L4 21.41c.39.39.9.59 1.41.59.51 0 1.02-.2 1.41-.59l7.78-7.78 2.81-2.81c.8-.78.8-2.07 0-2.86zM5.41 20L4 18.59l7.72-7.72 1.47 1.35L5.41 20z\"/>\n",
              "  </svg>\n",
              "      </button>\n",
              "      \n",
              "  <style>\n",
              "    .colab-df-container {\n",
              "      display:flex;\n",
              "      flex-wrap:wrap;\n",
              "      gap: 12px;\n",
              "    }\n",
              "\n",
              "    .colab-df-convert {\n",
              "      background-color: #E8F0FE;\n",
              "      border: none;\n",
              "      border-radius: 50%;\n",
              "      cursor: pointer;\n",
              "      display: none;\n",
              "      fill: #1967D2;\n",
              "      height: 32px;\n",
              "      padding: 0 0 0 0;\n",
              "      width: 32px;\n",
              "    }\n",
              "\n",
              "    .colab-df-convert:hover {\n",
              "      background-color: #E2EBFA;\n",
              "      box-shadow: 0px 1px 2px rgba(60, 64, 67, 0.3), 0px 1px 3px 1px rgba(60, 64, 67, 0.15);\n",
              "      fill: #174EA6;\n",
              "    }\n",
              "\n",
              "    [theme=dark] .colab-df-convert {\n",
              "      background-color: #3B4455;\n",
              "      fill: #D2E3FC;\n",
              "    }\n",
              "\n",
              "    [theme=dark] .colab-df-convert:hover {\n",
              "      background-color: #434B5C;\n",
              "      box-shadow: 0px 1px 3px 1px rgba(0, 0, 0, 0.15);\n",
              "      filter: drop-shadow(0px 1px 2px rgba(0, 0, 0, 0.3));\n",
              "      fill: #FFFFFF;\n",
              "    }\n",
              "  </style>\n",
              "\n",
              "      <script>\n",
              "        const buttonEl =\n",
              "          document.querySelector('#df-42db2668-a174-4fa9-96dc-75b1f9677333 button.colab-df-convert');\n",
              "        buttonEl.style.display =\n",
              "          google.colab.kernel.accessAllowed ? 'block' : 'none';\n",
              "\n",
              "        async function convertToInteractive(key) {\n",
              "          const element = document.querySelector('#df-42db2668-a174-4fa9-96dc-75b1f9677333');\n",
              "          const dataTable =\n",
              "            await google.colab.kernel.invokeFunction('convertToInteractive',\n",
              "                                                     [key], {});\n",
              "          if (!dataTable) return;\n",
              "\n",
              "          const docLinkHtml = 'Like what you see? Visit the ' +\n",
              "            '<a target=\"_blank\" href=https://colab.research.google.com/notebooks/data_table.ipynb>data table notebook</a>'\n",
              "            + ' to learn more about interactive tables.';\n",
              "          element.innerHTML = '';\n",
              "          dataTable['output_type'] = 'display_data';\n",
              "          await google.colab.output.renderOutput(dataTable, element);\n",
              "          const docLink = document.createElement('div');\n",
              "          docLink.innerHTML = docLinkHtml;\n",
              "          element.appendChild(docLink);\n",
              "        }\n",
              "      </script>\n",
              "    </div>\n",
              "  </div>\n",
              "  "
            ]
          },
          "metadata": {},
          "execution_count": 47
        }
      ]
    },
    {
      "cell_type": "code",
      "source": [
        "# Calculate evaluation metrics\n",
        "mse = mean_squared_error(actual_prices, predicted_prices_shiftedRNN)\n",
        "mae = mean_absolute_error(actual_prices, predicted_prices_shiftedRNN)\n",
        "rmse = np.sqrt(mse)\n",
        "r2 = r2_score(actual_prices, predicted_prices_shiftedRNN)\n",
        "mape = np.mean(np.abs((actual_prices - predicted_prices_shiftedRNN) / actual_prices)) * 100\n",
        "\n",
        "# Print evaluation metrics\n",
        "print(\"Mean Squared Error (MSE): \", mse)\n",
        "print(\"Root Mean Squared Error (RMSE): \", rmse)\n",
        "print(\"Mean Absolute Error (MAE): \", mae)\n",
        "print(\"R-squared (R2): \", r2)\n",
        "print(\"Mean Absolute Percentage Error (MAPE): \", mape)"
      ],
      "metadata": {
        "colab": {
          "base_uri": "https://localhost:8080/"
        },
        "id": "JsO1BX1QtdgW",
        "outputId": "4614443f-7ee8-4d6f-ef10-2b728a3ef378"
      },
      "execution_count": null,
      "outputs": [
        {
          "output_type": "stream",
          "name": "stdout",
          "text": [
            "Mean Squared Error (MSE):  56.70903337463555\n",
            "Root Mean Squared Error (RMSE):  7.530540045351034\n",
            "Mean Absolute Error (MAE):  5.799690795898414\n",
            "R-squared (R2):  0.6579282454405553\n",
            "Mean Absolute Percentage Error (MAPE):  1.8211135439198705\n"
          ]
        }
      ]
    },
    {
      "cell_type": "markdown",
      "source": [
        "# References\n",
        "https://www.youtube.com/watch?v=PuZY9q-aKLw"
      ],
      "metadata": {
        "id": "sPlF5z6SKYCf"
      }
    }
  ]
}